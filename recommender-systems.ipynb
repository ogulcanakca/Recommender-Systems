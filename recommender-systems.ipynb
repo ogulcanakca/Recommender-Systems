{
 "metadata": {
  "kernelspec": {
   "language": "python",
   "display_name": "Python 3",
   "name": "python3"
  },
  "language_info": {
   "name": "python",
   "version": "3.10.12",
   "mimetype": "text/x-python",
   "codemirror_mode": {
    "name": "ipython",
    "version": 3
   },
   "pygments_lexer": "ipython3",
   "nbconvert_exporter": "python",
   "file_extension": ".py"
  }
 },
 "nbformat_minor": 4,
 "nbformat": 4,
 "cells": [
  {
   "cell_type": "markdown",
   "source": [
    "* InvoiceID : İşlemin benzersiz kimliği. Bir işlemde, müşteri aynı tarihte farklı SKU'lara sahip birkaç farklı ürün satın alabilir. Her bir ürün satışı ayrı bir kayıt olarak tutulur, ancak bu kayıtların hepsi aynı InvoiceID'yi paylaşır. Birlikte satılan ürünleri tespit etmek için de kullanılabilir.\n",
    "* Date : Tarih ve saat formatında işlemin veya satışın tarihi belirtilir.\n",
    "* ProductID : Satılan her bir öğe/ürün için benzersiz kimlik.\n",
    "* TotalSales : Satış işleminden elde edilen gelir. Bir ürünün birim fiyatını hesaplamak için kolonlarda $\\frac{TotalSales}{Quantity}$ işlemi yapılabilir.\n",
    "* Discount : Yapılan işlemde uygulanan indirim miktarı. İndirim sonrası fiyat için $TotalSales - \\frac{TotalSales\\times Quantity}{100}$ işlemi yapılabilir.\n",
    "* CustomerID : Her müşteri için benzersiz müşteri kimliği. Verisetinde müşteri, bir şirket şubesi veya bir bayi olabilir.\n",
    "* Quantity : İşlemde satılan ürünlerin adedini belirtir."
   ],
   "metadata": {}
  },
  {
   "cell_type": "markdown",
   "source": [
    "<a id=\"headers\"></a>\n",
    "1. [Popularity-based Recommender System](#section-one)\n",
    "2. [Content-based Recommender System](#section-two)\n",
    "3. [Collaborative Filtering Recommender System - 1](#section-three)\n",
    "4. [Collaborative Filtering Recommender System - 2](#section-four)\n",
    "5. [Hybrid Recommender System](#section-five)"
   ],
   "metadata": {}
  },
  {
   "cell_type": "markdown",
   "source": [
    "<a id=\"section-one\"></a>\n",
    "# [Popularity-based Recommender System](#headers)"
   ],
   "metadata": {}
  },
  {
   "cell_type": "code",
   "source": [
    "import numpy as np\n",
    "import pandas as pd\n",
    "import seaborn as sns\n",
    "import matplotlib.pyplot as plt\n",
    "\n",
    "df = pd.read_csv('/kaggle/input/retail-data-set/file_out2.csv')"
   ],
   "metadata": {
    "execution": {
     "iopub.status.busy": "2023-09-02T09:47:14.391992Z",
     "iopub.execute_input": "2023-09-02T09:47:14.392485Z",
     "iopub.status.idle": "2023-09-02T09:47:14.576396Z",
     "shell.execute_reply.started": "2023-09-02T09:47:14.392449Z",
     "shell.execute_reply": "2023-09-02T09:47:14.575431Z"
    },
    "trusted": true
   },
   "execution_count": null,
   "outputs": []
  },
  {
   "cell_type": "code",
   "source": [
    "df.drop(\"Unnamed: 0\", axis = 1, inplace = True)"
   ],
   "metadata": {
    "execution": {
     "iopub.status.busy": "2023-09-02T09:45:13.149477Z",
     "iopub.execute_input": "2023-09-02T09:45:13.149836Z",
     "iopub.status.idle": "2023-09-02T09:45:13.159720Z",
     "shell.execute_reply.started": "2023-09-02T09:45:13.149807Z",
     "shell.execute_reply": "2023-09-02T09:45:13.158349Z"
    },
    "trusted": true
   },
   "execution_count": null,
   "outputs": []
  },
  {
   "cell_type": "code",
   "source": [
    "pd.DataFrame([{'products': len(df['ProductID'].value_counts()),\n",
    "               'transactions': len(df['InvoiceID'].value_counts()),\n",
    "               'customers': len(df['CustomerID'].value_counts()),\n",
    "              }], columns = ['products', 'transactions', 'customers'], index = ['quantity'])"
   ],
   "metadata": {
    "execution": {
     "iopub.status.busy": "2023-09-02T09:45:13.161460Z",
     "iopub.execute_input": "2023-09-02T09:45:13.162220Z",
     "iopub.status.idle": "2023-09-02T09:45:13.181462Z",
     "shell.execute_reply.started": "2023-09-02T09:45:13.162177Z",
     "shell.execute_reply": "2023-09-02T09:45:13.179774Z"
    },
    "trusted": true
   },
   "execution_count": null,
   "outputs": []
  },
  {
   "cell_type": "code",
   "source": [
    "product_counts = df.groupby(['CustomerID', 'ProductID'])['Quantity'].sum().reset_index()\n",
    "product_counts.rename(columns={'Quantity': 'Ratings'}, inplace=True)\n",
    "ratings_df = product_counts[['CustomerID', 'ProductID', 'Ratings']]"
   ],
   "metadata": {
    "execution": {
     "iopub.status.busy": "2023-09-02T09:45:13.184635Z",
     "iopub.execute_input": "2023-09-02T09:45:13.185033Z",
     "iopub.status.idle": "2023-09-02T09:45:13.202064Z",
     "shell.execute_reply.started": "2023-09-02T09:45:13.185003Z",
     "shell.execute_reply": "2023-09-02T09:45:13.200344Z"
    },
    "trusted": true
   },
   "execution_count": null,
   "outputs": []
  },
  {
   "cell_type": "code",
   "source": [
    "from sklearn.preprocessing import MinMaxScaler\n",
    "\n",
    "scaler = MinMaxScaler(feature_range =(1,5)) \n",
    "ratings_df['NormalizedRatings'] = scaler.fit_transform(ratings_df[['Ratings']])"
   ],
   "metadata": {
    "execution": {
     "iopub.status.busy": "2023-09-02T09:45:13.204029Z",
     "iopub.execute_input": "2023-09-02T09:45:13.204558Z",
     "iopub.status.idle": "2023-09-02T09:45:13.219249Z",
     "shell.execute_reply.started": "2023-09-02T09:45:13.204515Z",
     "shell.execute_reply": "2023-09-02T09:45:13.218207Z"
    },
    "trusted": true
   },
   "execution_count": null,
   "outputs": []
  },
  {
   "cell_type": "code",
   "source": [
    "user_ratings = ratings_df.pivot(index=\"ProductID\", columns=\"CustomerID\", values=\"NormalizedRatings\")\n",
    "correlation_matrix = user_ratings.corr()"
   ],
   "metadata": {
    "execution": {
     "iopub.status.busy": "2023-09-02T10:14:19.467449Z",
     "iopub.execute_input": "2023-09-02T10:14:19.467898Z",
     "iopub.status.idle": "2023-09-02T10:14:19.853228Z",
     "shell.execute_reply.started": "2023-09-02T10:14:19.467864Z",
     "shell.execute_reply": "2023-09-02T10:14:19.852047Z"
    },
    "trusted": true
   },
   "execution_count": null,
   "outputs": []
  },
  {
   "cell_type": "code",
   "source": [
    "means_similars = {} \n",
    "for i in range(len(ratings_df['CustomerID'].unique())): \n",
    "    correlation_matrix[i] = correlation_matrix[i].drop(i)\n",
    "    means_similars[i] = correlation_matrix[i].mean() "
   ],
   "metadata": {
    "execution": {
     "iopub.status.busy": "2023-09-02T09:45:13.601349Z",
     "iopub.execute_input": "2023-09-02T09:45:13.602025Z",
     "iopub.status.idle": "2023-09-02T09:45:14.272764Z",
     "shell.execute_reply.started": "2023-09-02T09:45:13.601989Z",
     "shell.execute_reply": "2023-09-02T09:45:14.271518Z"
    },
    "trusted": true
   },
   "execution_count": null,
   "outputs": []
  },
  {
   "cell_type": "code",
   "source": [
    "new_matrix = []\n",
    "i = 0\n",
    "for row in correlation_matrix:\n",
    "    result = [mns for mns in correlation_matrix[row] if mns > means_similars[i]]\n",
    "    new_matrix.append(result)\n",
    "    i += 1\n",
    "    if i == 507:\n",
    "        break"
   ],
   "metadata": {
    "execution": {
     "iopub.status.busy": "2023-09-02T09:45:14.273986Z",
     "iopub.execute_input": "2023-09-02T09:45:14.274346Z",
     "iopub.status.idle": "2023-09-02T09:45:14.386447Z",
     "shell.execute_reply.started": "2023-09-02T09:45:14.274308Z",
     "shell.execute_reply": "2023-09-02T09:45:14.385560Z"
    },
    "trusted": true
   },
   "execution_count": null,
   "outputs": []
  },
  {
   "cell_type": "code",
   "source": [
    "correlation_matrix =pd.DataFrame(new_matrix)                                  "
   ],
   "metadata": {
    "execution": {
     "iopub.status.busy": "2023-09-02T09:45:14.387926Z",
     "iopub.execute_input": "2023-09-02T09:45:14.388577Z",
     "iopub.status.idle": "2023-09-02T09:45:14.412422Z",
     "shell.execute_reply.started": "2023-09-02T09:45:14.388546Z",
     "shell.execute_reply": "2023-09-02T09:45:14.411365Z"
    },
    "trusted": true
   },
   "execution_count": null,
   "outputs": []
  },
  {
   "cell_type": "code",
   "source": [
    "correlation_matrix = correlation_matrix.applymap(lambda x: 0 if pd.isna(x) or x < 0 else x)"
   ],
   "metadata": {
    "execution": {
     "iopub.status.busy": "2023-09-02T09:45:14.414165Z",
     "iopub.execute_input": "2023-09-02T09:45:14.414578Z",
     "iopub.status.idle": "2023-09-02T09:45:14.570868Z",
     "shell.execute_reply.started": "2023-09-02T09:45:14.414537Z",
     "shell.execute_reply": "2023-09-02T09:45:14.569565Z"
    },
    "trusted": true
   },
   "execution_count": null,
   "outputs": []
  },
  {
   "cell_type": "code",
   "source": [
    "sorted_ratings = ratings_df.sort_values(by='NormalizedRatings', ascending=False)"
   ],
   "metadata": {
    "execution": {
     "iopub.status.busy": "2023-09-02T09:45:14.572321Z",
     "iopub.execute_input": "2023-09-02T09:45:14.572728Z",
     "iopub.status.idle": "2023-09-02T09:45:14.587556Z",
     "shell.execute_reply.started": "2023-09-02T09:45:14.572695Z",
     "shell.execute_reply": "2023-09-02T09:45:14.585866Z"
    },
    "trusted": true
   },
   "execution_count": null,
   "outputs": []
  },
  {
   "cell_type": "code",
   "source": [
    "cleaned_values = [value for value in means_similars.values() if not np.isnan(value)]\n",
    "means_similars_corrs = np.mean(cleaned_values)"
   ],
   "metadata": {
    "execution": {
     "iopub.status.busy": "2023-09-02T09:45:14.589985Z",
     "iopub.execute_input": "2023-09-02T09:45:14.590462Z",
     "iopub.status.idle": "2023-09-02T09:45:14.598751Z",
     "shell.execute_reply.started": "2023-09-02T09:45:14.590426Z",
     "shell.execute_reply": "2023-09-02T09:45:14.597402Z"
    },
    "trusted": true
   },
   "execution_count": null,
   "outputs": []
  },
  {
   "cell_type": "code",
   "source": [
    "targets_dict = {}\n",
    "similar_customer_ids = list(set(list(sorted_ratings['CustomerID'])))\n",
    "\n",
    "for i in set(list(df['ProductID'])):\n",
    "    target_product_id = i\n",
    "    target_product_ratings = user_ratings.loc[target_product_id, similar_customer_ids]    \n",
    "    targets_dict[i] = np.sum(target_product_ratings)"
   ],
   "metadata": {
    "execution": {
     "iopub.status.busy": "2023-09-02T09:45:14.600546Z",
     "iopub.execute_input": "2023-09-02T09:45:14.600994Z",
     "iopub.status.idle": "2023-09-02T09:45:15.937736Z",
     "shell.execute_reply.started": "2023-09-02T09:45:14.600961Z",
     "shell.execute_reply": "2023-09-02T09:45:15.936669Z"
    },
    "trusted": true
   },
   "execution_count": null,
   "outputs": []
  },
  {
   "cell_type": "code",
   "source": [
    "df['ProductRating'] = None\n",
    "df = df.set_index('ProductID')\n",
    "df['ProductRating'] = df.index.map(targets_dict)\n",
    "df['ProductRating'] = scaler.fit_transform(df[['ProductRating']])"
   ],
   "metadata": {
    "execution": {
     "iopub.status.busy": "2023-09-02T09:45:15.939339Z",
     "iopub.execute_input": "2023-09-02T09:45:15.939787Z",
     "iopub.status.idle": "2023-09-02T09:45:15.960917Z",
     "shell.execute_reply.started": "2023-09-02T09:45:15.939747Z",
     "shell.execute_reply": "2023-09-02T09:45:15.959350Z"
    },
    "trusted": true
   },
   "execution_count": null,
   "outputs": []
  },
  {
   "cell_type": "code",
   "source": [
    "def custom_round(x):\n",
    "    return round(x * 2) / 2\n",
    "df['ProductRating'] = df['ProductRating'].apply(custom_round)"
   ],
   "metadata": {
    "execution": {
     "iopub.status.busy": "2023-09-02T09:45:15.964620Z",
     "iopub.execute_input": "2023-09-02T09:45:15.964989Z",
     "iopub.status.idle": "2023-09-02T09:45:15.992045Z",
     "shell.execute_reply.started": "2023-09-02T09:45:15.964957Z",
     "shell.execute_reply": "2023-09-02T09:45:15.990559Z"
    },
    "trusted": true
   },
   "execution_count": null,
   "outputs": []
  },
  {
   "cell_type": "code",
   "source": [
    "Data = df.drop(columns = ['InvoiceID' , 'Date', 'TotalSales','Discount','Quantity'], axis = 1)"
   ],
   "metadata": {
    "execution": {
     "iopub.status.busy": "2023-09-02T09:45:15.993982Z",
     "iopub.execute_input": "2023-09-02T09:45:15.994476Z",
     "iopub.status.idle": "2023-09-02T09:45:16.002790Z",
     "shell.execute_reply.started": "2023-09-02T09:45:15.994435Z",
     "shell.execute_reply": "2023-09-02T09:45:16.001593Z"
    },
    "trusted": true
   },
   "execution_count": null,
   "outputs": []
  },
  {
   "cell_type": "code",
   "source": [
    "Data.head()"
   ],
   "metadata": {
    "execution": {
     "iopub.status.busy": "2023-09-02T09:45:29.932755Z",
     "iopub.execute_input": "2023-09-02T09:45:29.933303Z",
     "iopub.status.idle": "2023-09-02T09:45:29.947252Z",
     "shell.execute_reply.started": "2023-09-02T09:45:29.933250Z",
     "shell.execute_reply": "2023-09-02T09:45:29.945748Z"
    },
    "trusted": true
   },
   "execution_count": null,
   "outputs": []
  },
  {
   "cell_type": "code",
   "source": [
    "Data = Data.reset_index()"
   ],
   "metadata": {
    "execution": {
     "iopub.status.busy": "2023-09-02T09:49:29.769947Z",
     "iopub.execute_input": "2023-09-02T09:49:29.770486Z",
     "iopub.status.idle": "2023-09-02T09:49:29.779859Z",
     "shell.execute_reply.started": "2023-09-02T09:49:29.770445Z",
     "shell.execute_reply": "2023-09-02T09:49:29.778804Z"
    },
    "trusted": true
   },
   "execution_count": null,
   "outputs": []
  },
  {
   "cell_type": "code",
   "source": [
    "Data['ProductRating'].min(), Data['ProductRating'].max()"
   ],
   "metadata": {
    "execution": {
     "iopub.status.busy": "2023-09-02T09:46:51.486503Z",
     "iopub.execute_input": "2023-09-02T09:46:51.486935Z",
     "iopub.status.idle": "2023-09-02T09:46:51.497022Z",
     "shell.execute_reply.started": "2023-09-02T09:46:51.486902Z",
     "shell.execute_reply": "2023-09-02T09:46:51.495721Z"
    },
    "trusted": true
   },
   "execution_count": null,
   "outputs": []
  },
  {
   "cell_type": "code",
   "source": [
    "Data.groupby('CustomerID')['ProductRating'].mean().sort_values(ascending=False).head(10)  "
   ],
   "metadata": {
    "execution": {
     "iopub.status.busy": "2023-09-02T09:46:45.599172Z",
     "iopub.execute_input": "2023-09-02T09:46:45.599646Z",
     "iopub.status.idle": "2023-09-02T09:46:45.614457Z",
     "shell.execute_reply.started": "2023-09-02T09:46:45.599579Z",
     "shell.execute_reply": "2023-09-02T09:46:45.613285Z"
    },
    "trusted": true
   },
   "execution_count": null,
   "outputs": []
  },
  {
   "cell_type": "code",
   "source": [
    "with sns.axes_style('white'):\n",
    "    g = sns.catplot(x=\"ProductRating\", data=Data, aspect=2.0, kind='count')\n",
    "    g.set_ylabels(\"Total number of ratings\")\n",
    "\n",
    "plt.show()"
   ],
   "metadata": {
    "execution": {
     "iopub.status.busy": "2023-09-02T09:47:17.541821Z",
     "iopub.execute_input": "2023-09-02T09:47:17.542715Z",
     "iopub.status.idle": "2023-09-02T09:47:18.195086Z",
     "shell.execute_reply.started": "2023-09-02T09:47:17.542661Z",
     "shell.execute_reply": "2023-09-02T09:47:18.193830Z"
    },
    "trusted": true
   },
   "execution_count": null,
   "outputs": []
  },
  {
   "cell_type": "code",
   "source": [
    "print(\"Toplam müşteri derecelendirmeleri :\",Data.shape[0])\n",
    "print(\"Toplam müşteri sayısı:\", len(np.unique(Data.CustomerID)))\n",
    "print(\"Toplam ürün sayısı  :\", len(np.unique(Data.ProductID)))"
   ],
   "metadata": {
    "execution": {
     "iopub.status.busy": "2023-09-02T09:49:32.259704Z",
     "iopub.execute_input": "2023-09-02T09:49:32.260139Z",
     "iopub.status.idle": "2023-09-02T09:49:32.271383Z",
     "shell.execute_reply.started": "2023-09-02T09:49:32.260110Z",
     "shell.execute_reply": "2023-09-02T09:49:32.269928Z"
    },
    "trusted": true
   },
   "execution_count": null,
   "outputs": []
  },
  {
   "cell_type": "code",
   "source": [
    "Data.groupby('ProductID')['ProductRating'].mean().sort_values(ascending=False) "
   ],
   "metadata": {
    "execution": {
     "iopub.status.busy": "2023-09-02T09:49:51.375365Z",
     "iopub.execute_input": "2023-09-02T09:49:51.375952Z",
     "iopub.status.idle": "2023-09-02T09:49:51.398289Z",
     "shell.execute_reply.started": "2023-09-02T09:49:51.375910Z",
     "shell.execute_reply": "2023-09-02T09:49:51.397090Z"
    },
    "trusted": true
   },
   "execution_count": null,
   "outputs": []
  },
  {
   "cell_type": "code",
   "source": [
    "grouped_data = Data.groupby(['CustomerID', 'ProductID'])['ProductRating'].mean().reset_index()\n",
    "final_ratings_matrix = grouped_data.pivot(index='CustomerID', columns='ProductID', values='ProductRating').fillna(0)\n",
    "final_ratings_matrix_T = final_ratings_matrix.transpose()"
   ],
   "metadata": {
    "execution": {
     "iopub.status.busy": "2023-09-02T09:50:48.866066Z",
     "iopub.execute_input": "2023-09-02T09:50:48.866597Z",
     "iopub.status.idle": "2023-09-02T09:50:48.903596Z",
     "shell.execute_reply.started": "2023-09-02T09:50:48.866558Z",
     "shell.execute_reply": "2023-09-02T09:50:48.902184Z"
    },
    "trusted": true
   },
   "execution_count": null,
   "outputs": []
  },
  {
   "cell_type": "code",
   "source": [
    "Data_new_grouped = Data.groupby('ProductID').agg({'CustomerID': 'count'}).reset_index()\n",
    "Data_new_grouped.rename(columns = {'CustomerID': 'score'},inplace=True)\n",
    "Data_new_grouped.head()"
   ],
   "metadata": {
    "execution": {
     "iopub.status.busy": "2023-09-02T09:51:13.165091Z",
     "iopub.execute_input": "2023-09-02T09:51:13.165543Z",
     "iopub.status.idle": "2023-09-02T09:51:13.184945Z",
     "shell.execute_reply.started": "2023-09-02T09:51:13.165511Z",
     "shell.execute_reply": "2023-09-02T09:51:13.183421Z"
    },
    "trusted": true
   },
   "execution_count": null,
   "outputs": []
  },
  {
   "cell_type": "code",
   "source": [
    "train_data_sort = Data.sort_values(['ProductRating', 'ProductID'], ascending = [0,1]) \n",
    "train_data_sort['Rank'] = train_data_sort['ProductRating'].rank(ascending=0, method='first') \n",
    "popularity_recommendations = train_data_sort.head(5) # En popüler ürünler"
   ],
   "metadata": {
    "execution": {
     "iopub.status.busy": "2023-09-02T09:53:07.904472Z",
     "iopub.execute_input": "2023-09-02T09:53:07.904997Z",
     "iopub.status.idle": "2023-09-02T09:53:07.920218Z",
     "shell.execute_reply.started": "2023-09-02T09:53:07.904959Z",
     "shell.execute_reply": "2023-09-02T09:53:07.918942Z"
    },
    "trusted": true
   },
   "execution_count": null,
   "outputs": []
  },
  {
   "cell_type": "code",
   "source": [
    "def recommend(user_id):     \n",
    "    user_recommendations = popularity_recommendations \n",
    "    user_recommendations['userId'] = user_id \n",
    "    cols = user_recommendations.columns.tolist() \n",
    "    cols = cols[-1:] + cols[:-1] \n",
    "    user_recommendations = user_recommendations[cols] \n",
    "\n",
    "    return user_recommendations "
   ],
   "metadata": {
    "execution": {
     "iopub.status.busy": "2023-09-02T09:53:09.947364Z",
     "iopub.execute_input": "2023-09-02T09:53:09.947818Z",
     "iopub.status.idle": "2023-09-02T09:53:09.955176Z",
     "shell.execute_reply.started": "2023-09-02T09:53:09.947780Z",
     "shell.execute_reply": "2023-09-02T09:53:09.953985Z"
    },
    "trusted": true
   },
   "execution_count": null,
   "outputs": []
  },
  {
   "cell_type": "code",
   "source": [
    "popular_products = pd.DataFrame(Data.groupby('ProductID')['ProductRating'].count())\n",
    "most_popular = popular_products.sort_values('ProductRating', ascending=False)\n",
    "most_popular.head(25).plot(kind = \"bar\")"
   ],
   "metadata": {
    "execution": {
     "iopub.status.busy": "2023-09-02T09:53:13.400594Z",
     "iopub.execute_input": "2023-09-02T09:53:13.401198Z",
     "iopub.status.idle": "2023-09-02T09:53:13.944496Z",
     "shell.execute_reply.started": "2023-09-02T09:53:13.401149Z",
     "shell.execute_reply": "2023-09-02T09:53:13.943348Z"
    },
    "trusted": true
   },
   "execution_count": null,
   "outputs": []
  },
  {
   "cell_type": "markdown",
   "source": [
    "<a id=\"section-two\"></a>\n",
    "# [Content-based - Recommender System](#headers)"
   ],
   "metadata": {}
  },
  {
   "cell_type": "code",
   "source": [
    "import surprise\n",
    "from surprise import KNNWithMeans\n",
    "from surprise import Dataset\n",
    "from surprise import accuracy\n",
    "from surprise import Reader\n",
    "from surprise.model_selection import train_test_split\n",
    "from collections import defaultdict\n",
    "from surprise.model_selection import GridSearchCV\n",
    "from scipy.sparse.linalg import svds"
   ],
   "metadata": {
    "execution": {
     "iopub.status.busy": "2023-09-02T11:02:54.594771Z",
     "iopub.execute_input": "2023-09-02T11:02:54.595376Z",
     "iopub.status.idle": "2023-09-02T11:02:54.603476Z",
     "shell.execute_reply.started": "2023-09-02T11:02:54.595334Z",
     "shell.execute_reply": "2023-09-02T11:02:54.602350Z"
    },
    "trusted": true
   },
   "execution_count": null,
   "outputs": []
  },
  {
   "cell_type": "code",
   "source": [
    "df = pd.read_csv('/kaggle/input/retail-data-set/file_out2.csv')"
   ],
   "metadata": {
    "execution": {
     "iopub.status.busy": "2023-09-02T11:02:54.976103Z",
     "iopub.execute_input": "2023-09-02T11:02:54.977502Z",
     "iopub.status.idle": "2023-09-02T11:02:55.025186Z",
     "shell.execute_reply.started": "2023-09-02T11:02:54.977445Z",
     "shell.execute_reply": "2023-09-02T11:02:55.023794Z"
    },
    "trusted": true
   },
   "execution_count": null,
   "outputs": []
  },
  {
   "cell_type": "code",
   "source": [
    "df.drop(\"Unnamed: 0\", axis = 1, inplace = True)"
   ],
   "metadata": {
    "execution": {
     "iopub.status.busy": "2023-09-02T11:02:55.376649Z",
     "iopub.execute_input": "2023-09-02T11:02:55.377060Z",
     "iopub.status.idle": "2023-09-02T11:02:55.386401Z",
     "shell.execute_reply.started": "2023-09-02T11:02:55.377030Z",
     "shell.execute_reply": "2023-09-02T11:02:55.384714Z"
    },
    "trusted": true
   },
   "execution_count": null,
   "outputs": []
  },
  {
   "cell_type": "code",
   "source": [
    "product_counts = df.groupby(['CustomerID', 'ProductID'])['Quantity'].sum().reset_index()\n",
    "product_counts.rename(columns={'Quantity': 'Ratings'}, inplace=True)\n",
    "\n",
    "ratings_df = product_counts[['CustomerID', 'ProductID', 'Ratings']]\n"
   ],
   "metadata": {
    "execution": {
     "iopub.status.busy": "2023-09-02T11:02:55.917192Z",
     "iopub.execute_input": "2023-09-02T11:02:55.917705Z",
     "iopub.status.idle": "2023-09-02T11:02:55.935306Z",
     "shell.execute_reply.started": "2023-09-02T11:02:55.917670Z",
     "shell.execute_reply": "2023-09-02T11:02:55.934218Z"
    },
    "trusted": true
   },
   "execution_count": null,
   "outputs": []
  },
  {
   "cell_type": "code",
   "source": [
    "scaler = MinMaxScaler(feature_range =(1,5))\n",
    "ratings_df['NormalizedRatings'] = scaler.fit_transform(ratings_df[['Ratings']])"
   ],
   "metadata": {
    "execution": {
     "iopub.status.busy": "2023-09-02T11:02:57.010957Z",
     "iopub.execute_input": "2023-09-02T11:02:57.011523Z",
     "iopub.status.idle": "2023-09-02T11:02:57.026050Z",
     "shell.execute_reply.started": "2023-09-02T11:02:57.011482Z",
     "shell.execute_reply": "2023-09-02T11:02:57.024692Z"
    },
    "trusted": true
   },
   "execution_count": null,
   "outputs": []
  },
  {
   "cell_type": "code",
   "source": [
    "user_ratings = ratings_df.pivot(index=\"ProductID\", columns=\"CustomerID\", values=\"NormalizedRatings\")\n",
    "\n",
    "correlation_matrix = user_ratings.corr()"
   ],
   "metadata": {
    "execution": {
     "iopub.status.busy": "2023-09-02T11:02:57.932680Z",
     "iopub.execute_input": "2023-09-02T11:02:57.933124Z",
     "iopub.status.idle": "2023-09-02T11:02:58.297533Z",
     "shell.execute_reply.started": "2023-09-02T11:02:57.933088Z",
     "shell.execute_reply": "2023-09-02T11:02:58.296036Z"
    },
    "trusted": true
   },
   "execution_count": null,
   "outputs": []
  },
  {
   "cell_type": "code",
   "source": [
    "means_similars = {} \n",
    "for i in range(len(ratings_df['CustomerID'].unique())): \n",
    "    correlation_matrix[i] = correlation_matrix[i].drop(i)\n",
    "    means_similars[i] = correlation_matrix[i].mean() "
   ],
   "metadata": {
    "execution": {
     "iopub.status.busy": "2023-09-02T11:02:58.299890Z",
     "iopub.execute_input": "2023-09-02T11:02:58.300425Z",
     "iopub.status.idle": "2023-09-02T11:02:58.888467Z",
     "shell.execute_reply.started": "2023-09-02T11:02:58.300382Z",
     "shell.execute_reply": "2023-09-02T11:02:58.886985Z"
    },
    "trusted": true
   },
   "execution_count": null,
   "outputs": []
  },
  {
   "cell_type": "code",
   "source": [
    "new_matrix = []\n",
    "i = 0\n",
    "for row in correlation_matrix:\n",
    "    result = [mns for mns in correlation_matrix[row] if mns > means_similars[i]]\n",
    "    new_matrix.append(result)\n",
    "    i += 1\n",
    "    if i == 507:\n",
    "        break"
   ],
   "metadata": {
    "execution": {
     "iopub.status.busy": "2023-09-02T11:02:58.890824Z",
     "iopub.execute_input": "2023-09-02T11:02:58.891898Z",
     "iopub.status.idle": "2023-09-02T11:02:59.011243Z",
     "shell.execute_reply.started": "2023-09-02T11:02:58.891848Z",
     "shell.execute_reply": "2023-09-02T11:02:59.008962Z"
    },
    "trusted": true
   },
   "execution_count": null,
   "outputs": []
  },
  {
   "cell_type": "code",
   "source": [
    "correlation_matrix =pd.DataFrame(new_matrix)"
   ],
   "metadata": {
    "execution": {
     "iopub.status.busy": "2023-09-02T11:02:59.310806Z",
     "iopub.execute_input": "2023-09-02T11:02:59.311701Z",
     "iopub.status.idle": "2023-09-02T11:02:59.334882Z",
     "shell.execute_reply.started": "2023-09-02T11:02:59.311657Z",
     "shell.execute_reply": "2023-09-02T11:02:59.333720Z"
    },
    "trusted": true
   },
   "execution_count": null,
   "outputs": []
  },
  {
   "cell_type": "code",
   "source": [
    "correlation_matrix = correlation_matrix.applymap(lambda x: 0 if pd.isna(x) or x < 0 else x)"
   ],
   "metadata": {
    "execution": {
     "iopub.status.busy": "2023-09-02T11:02:59.552326Z",
     "iopub.execute_input": "2023-09-02T11:02:59.552723Z",
     "iopub.status.idle": "2023-09-02T11:02:59.698913Z",
     "shell.execute_reply.started": "2023-09-02T11:02:59.552694Z",
     "shell.execute_reply": "2023-09-02T11:02:59.697659Z"
    },
    "trusted": true
   },
   "execution_count": null,
   "outputs": []
  },
  {
   "cell_type": "code",
   "source": [
    "sorted_ratings = ratings_df.sort_values(by='NormalizedRatings', ascending=False)"
   ],
   "metadata": {
    "execution": {
     "iopub.status.busy": "2023-09-02T11:02:59.857906Z",
     "iopub.execute_input": "2023-09-02T11:02:59.858990Z",
     "iopub.status.idle": "2023-09-02T11:02:59.868263Z",
     "shell.execute_reply.started": "2023-09-02T11:02:59.858943Z",
     "shell.execute_reply": "2023-09-02T11:02:59.866828Z"
    },
    "trusted": true
   },
   "execution_count": null,
   "outputs": []
  },
  {
   "cell_type": "code",
   "source": [
    "cleaned_values = [value for value in means_similars.values() if not np.isnan(value)]\n",
    "means_similars_corrs = np.mean(cleaned_values)                                       "
   ],
   "metadata": {
    "execution": {
     "iopub.status.busy": "2023-09-02T11:03:00.091875Z",
     "iopub.execute_input": "2023-09-02T11:03:00.092316Z",
     "iopub.status.idle": "2023-09-02T11:03:00.100184Z",
     "shell.execute_reply.started": "2023-09-02T11:03:00.092285Z",
     "shell.execute_reply": "2023-09-02T11:03:00.098802Z"
    },
    "trusted": true
   },
   "execution_count": null,
   "outputs": []
  },
  {
   "cell_type": "code",
   "source": [
    "targets_dict = {}\n",
    "\n",
    "similar_customer_ids = list(set(list(sorted_ratings['CustomerID'])))\n",
    "\n",
    "for i in set(list(df['ProductID'])):\n",
    "    target_product_id = i\n",
    "    target_product_ratings = user_ratings.loc[target_product_id, similar_customer_ids]    \n",
    "    targets_dict[i] = np.sum(target_product_ratings)"
   ],
   "metadata": {
    "execution": {
     "iopub.status.busy": "2023-09-02T11:03:00.402657Z",
     "iopub.execute_input": "2023-09-02T11:03:00.403057Z",
     "iopub.status.idle": "2023-09-02T11:03:01.812083Z",
     "shell.execute_reply.started": "2023-09-02T11:03:00.403020Z",
     "shell.execute_reply": "2023-09-02T11:03:01.810754Z"
    },
    "trusted": true
   },
   "execution_count": null,
   "outputs": []
  },
  {
   "cell_type": "code",
   "source": [
    "df['ProductRating'] = None"
   ],
   "metadata": {
    "execution": {
     "iopub.status.busy": "2023-09-02T11:03:01.814246Z",
     "iopub.execute_input": "2023-09-02T11:03:01.814680Z",
     "iopub.status.idle": "2023-09-02T11:03:01.820757Z",
     "shell.execute_reply.started": "2023-09-02T11:03:01.814646Z",
     "shell.execute_reply": "2023-09-02T11:03:01.819857Z"
    },
    "trusted": true
   },
   "execution_count": null,
   "outputs": []
  },
  {
   "cell_type": "code",
   "source": [
    "df = df.set_index('ProductID')"
   ],
   "metadata": {
    "execution": {
     "iopub.status.busy": "2023-09-02T11:03:01.822370Z",
     "iopub.execute_input": "2023-09-02T11:03:01.822739Z",
     "iopub.status.idle": "2023-09-02T11:03:01.841560Z",
     "shell.execute_reply.started": "2023-09-02T11:03:01.822703Z",
     "shell.execute_reply": "2023-09-02T11:03:01.840061Z"
    },
    "trusted": true
   },
   "execution_count": null,
   "outputs": []
  },
  {
   "cell_type": "code",
   "source": [
    "df['ProductRating'] = df.index.map(targets_dict)"
   ],
   "metadata": {
    "execution": {
     "iopub.status.busy": "2023-09-02T11:03:02.530581Z",
     "iopub.execute_input": "2023-09-02T11:03:02.531032Z",
     "iopub.status.idle": "2023-09-02T11:03:02.546007Z",
     "shell.execute_reply.started": "2023-09-02T11:03:02.530997Z",
     "shell.execute_reply": "2023-09-02T11:03:02.544183Z"
    },
    "trusted": true
   },
   "execution_count": null,
   "outputs": []
  },
  {
   "cell_type": "code",
   "source": [
    "df['ProductRating'] = scaler.fit_transform(df[['ProductRating']])"
   ],
   "metadata": {
    "execution": {
     "iopub.status.busy": "2023-09-02T11:03:02.773989Z",
     "iopub.execute_input": "2023-09-02T11:03:02.774577Z",
     "iopub.status.idle": "2023-09-02T11:03:02.790256Z",
     "shell.execute_reply.started": "2023-09-02T11:03:02.774535Z",
     "shell.execute_reply": "2023-09-02T11:03:02.788446Z"
    },
    "trusted": true
   },
   "execution_count": null,
   "outputs": []
  },
  {
   "cell_type": "code",
   "source": [
    "def custom_round(x):\n",
    "    return round(x * 2) / 2\n",
    "df['ProductRating'] = df['ProductRating'].apply(custom_round)"
   ],
   "metadata": {
    "execution": {
     "iopub.status.busy": "2023-09-02T11:03:03.034644Z",
     "iopub.execute_input": "2023-09-02T11:03:03.035987Z",
     "iopub.status.idle": "2023-09-02T11:03:03.066975Z",
     "shell.execute_reply.started": "2023-09-02T11:03:03.035941Z",
     "shell.execute_reply": "2023-09-02T11:03:03.064986Z"
    },
    "trusted": true
   },
   "execution_count": null,
   "outputs": []
  },
  {
   "cell_type": "code",
   "source": [
    "Data = df.drop(columns = ['InvoiceID' , 'Date', 'TotalSales','Discount','Quantity'], axis = 1)"
   ],
   "metadata": {
    "execution": {
     "iopub.status.busy": "2023-09-02T11:03:04.064095Z",
     "iopub.execute_input": "2023-09-02T11:03:04.064686Z",
     "iopub.status.idle": "2023-09-02T11:03:04.073410Z",
     "shell.execute_reply.started": "2023-09-02T11:03:04.064648Z",
     "shell.execute_reply": "2023-09-02T11:03:04.071819Z"
    },
    "trusted": true
   },
   "execution_count": null,
   "outputs": []
  },
  {
   "cell_type": "code",
   "source": [
    "Data = Data.reset_index()"
   ],
   "metadata": {
    "execution": {
     "iopub.status.busy": "2023-09-02T11:03:04.291906Z",
     "iopub.execute_input": "2023-09-02T11:03:04.292414Z",
     "iopub.status.idle": "2023-09-02T11:03:04.301484Z",
     "shell.execute_reply.started": "2023-09-02T11:03:04.292379Z",
     "shell.execute_reply": "2023-09-02T11:03:04.299862Z"
    },
    "trusted": true
   },
   "execution_count": null,
   "outputs": []
  },
  {
   "cell_type": "code",
   "source": [
    "reader = Reader(rating_scale=(1, 5))\n",
    "data1 = Dataset.load_from_df(Data,reader)"
   ],
   "metadata": {
    "execution": {
     "iopub.status.busy": "2023-09-02T11:03:04.514617Z",
     "iopub.execute_input": "2023-09-02T11:03:04.515047Z",
     "iopub.status.idle": "2023-09-02T11:03:04.577726Z",
     "shell.execute_reply.started": "2023-09-02T11:03:04.515014Z",
     "shell.execute_reply": "2023-09-02T11:03:04.575616Z"
    },
    "trusted": true
   },
   "execution_count": null,
   "outputs": []
  },
  {
   "cell_type": "code",
   "source": [
    "trainset, testset = train_test_split(data1, test_size=0.3,random_state=10)"
   ],
   "metadata": {
    "execution": {
     "iopub.status.busy": "2023-09-02T11:03:05.219235Z",
     "iopub.execute_input": "2023-09-02T11:03:05.219779Z",
     "iopub.status.idle": "2023-09-02T11:03:05.277136Z",
     "shell.execute_reply.started": "2023-09-02T11:03:05.219738Z",
     "shell.execute_reply": "2023-09-02T11:03:05.275727Z"
    },
    "trusted": true
   },
   "execution_count": null,
   "outputs": []
  },
  {
   "cell_type": "code",
   "source": [
    "algo = KNNWithMeans(k=50, sim_options={'name': 'cosine', 'user_based': True})\n",
    "algo.fit(trainset)"
   ],
   "metadata": {
    "execution": {
     "iopub.status.busy": "2023-09-02T11:03:05.417186Z",
     "iopub.execute_input": "2023-09-02T11:03:05.417692Z",
     "iopub.status.idle": "2023-09-02T11:03:06.319910Z",
     "shell.execute_reply.started": "2023-09-02T11:03:05.417658Z",
     "shell.execute_reply": "2023-09-02T11:03:06.318450Z"
    },
    "trusted": true
   },
   "execution_count": null,
   "outputs": []
  },
  {
   "cell_type": "code",
   "source": [
    "test_pred = algo.test(testset)"
   ],
   "metadata": {
    "execution": {
     "iopub.status.busy": "2023-09-02T11:03:06.322128Z",
     "iopub.execute_input": "2023-09-02T11:03:06.322480Z",
     "iopub.status.idle": "2023-09-02T11:03:11.969289Z",
     "shell.execute_reply.started": "2023-09-02T11:03:06.322449Z",
     "shell.execute_reply": "2023-09-02T11:03:11.967829Z"
    },
    "trusted": true
   },
   "execution_count": null,
   "outputs": []
  },
  {
   "cell_type": "code",
   "source": [
    "def get_top_n(predictions, n=5):\n",
    "\n",
    "    top_n = defaultdict(list)\n",
    "    for uid, iid, true_r, est, _ in predictions:\n",
    "        top_n[uid].append((iid, est))\n",
    "\n",
    "    for uid, user_ratings in top_n.items():\n",
    "        user_ratings.sort(key=lambda x: x[1], reverse=True)\n",
    "        top_n[uid] = user_ratings[:n]\n",
    "\n",
    "    return top_n"
   ],
   "metadata": {
    "execution": {
     "iopub.status.busy": "2023-09-02T11:03:11.971320Z",
     "iopub.execute_input": "2023-09-02T11:03:11.971701Z",
     "iopub.status.idle": "2023-09-02T11:03:11.979261Z",
     "shell.execute_reply.started": "2023-09-02T11:03:11.971660Z",
     "shell.execute_reply": "2023-09-02T11:03:11.977857Z"
    },
    "trusted": true
   },
   "execution_count": null,
   "outputs": []
  },
  {
   "cell_type": "code",
   "source": [
    "top_n = get_top_n(test_pred, n=5)"
   ],
   "metadata": {
    "execution": {
     "iopub.status.busy": "2023-09-02T11:03:11.980780Z",
     "iopub.execute_input": "2023-09-02T11:03:11.981162Z",
     "iopub.status.idle": "2023-09-02T11:03:12.003951Z",
     "shell.execute_reply.started": "2023-09-02T11:03:11.981132Z",
     "shell.execute_reply": "2023-09-02T11:03:12.002488Z"
    },
    "trusted": true
   },
   "execution_count": null,
   "outputs": []
  },
  {
   "cell_type": "code",
   "source": [
    "break_i = 0\n",
    "for uid, user_ratings in top_n.items():\n",
    "    print(uid, [iid for (iid, _) in user_ratings])\n",
    "    break_i +=1\n",
    "    if break_i == 5:\n",
    "        break"
   ],
   "metadata": {
    "execution": {
     "iopub.status.busy": "2023-09-02T11:03:12.008412Z",
     "iopub.execute_input": "2023-09-02T11:03:12.010789Z",
     "iopub.status.idle": "2023-09-02T11:03:12.023169Z",
     "shell.execute_reply.started": "2023-09-02T11:03:12.010708Z",
     "shell.execute_reply": "2023-09-02T11:03:12.021865Z"
    },
    "trusted": true
   },
   "execution_count": null,
   "outputs": []
  },
  {
   "cell_type": "code",
   "source": [
    "pred = pd.DataFrame(test_pred)\n",
    "pred[pred['uid'] == 576][['iid', 'r_ui','est']].sort_values(by = 'est',ascending = False).head(10)"
   ],
   "metadata": {
    "execution": {
     "iopub.status.busy": "2023-09-02T11:03:12.024537Z",
     "iopub.execute_input": "2023-09-02T11:03:12.024984Z",
     "iopub.status.idle": "2023-09-02T11:03:12.069874Z",
     "shell.execute_reply.started": "2023-09-02T11:03:12.024949Z",
     "shell.execute_reply": "2023-09-02T11:03:12.068611Z"
    },
    "trusted": true
   },
   "execution_count": null,
   "outputs": []
  },
  {
   "cell_type": "code",
   "source": [
    "data = data1\n",
    "sim_options = {\n",
    "    \"name\": [\"msd\", \"cosine\"],\n",
    "    \"min_support\": [3, 4, 5],\n",
    "    \"user_based\": [False, True],\n",
    "}\n",
    "\n",
    "param_grid = {\"sim_options\": sim_options}\n",
    "\n",
    "gs = GridSearchCV(KNNWithMeans, param_grid, measures=[\"rmse\", \"mae\"], cv=3)\n",
    "gs.fit(data)\n",
    "\n",
    "print(gs.best_score[\"rmse\"])\n",
    "print(gs.best_score[\"mae\"])\n",
    "print(gs.best_params[\"rmse\"])"
   ],
   "metadata": {
    "execution": {
     "iopub.status.busy": "2023-09-02T11:03:12.071195Z",
     "iopub.execute_input": "2023-09-02T11:03:12.071631Z",
     "iopub.status.idle": "2023-09-02T11:03:21.319286Z",
     "shell.execute_reply.started": "2023-09-02T11:03:12.071601Z",
     "shell.execute_reply": "2023-09-02T11:03:21.316791Z"
    },
    "trusted": true
   },
   "execution_count": null,
   "outputs": []
  },
  {
   "cell_type": "code",
   "source": [
    "user_arr = []\n",
    "for i in range(len(test_pred)):\n",
    "    if test_pred[i][0] not in user_arr:\n",
    "        user_arr.append(test_pred[i][0])"
   ],
   "metadata": {
    "execution": {
     "iopub.status.busy": "2023-09-02T11:03:21.320320Z",
     "iopub.status.idle": "2023-09-02T11:03:21.320743Z",
     "shell.execute_reply.started": "2023-09-02T11:03:21.320529Z",
     "shell.execute_reply": "2023-09-02T11:03:21.320547Z"
    },
    "trusted": true
   },
   "execution_count": null,
   "outputs": []
  },
  {
   "cell_type": "code",
   "source": [
    "FP = 0; TP = 0; FN =0; TN = 0\n",
    "\n",
    "for i in test_pred:\n",
    "    if i[3] != i[2]:\n",
    "        FP += 1\n",
    "    if i[3] == i[2]:\n",
    "        TP += 1\n",
    "for i in test_pred:\n",
    "    if i[2] != i[3]:\n",
    "        FN += 1\n",
    "    if i[2] == i[3]:\n",
    "        TN += 1\n",
    "\n",
    "def calculate_metrics(TP, FP, FN, TN):\n",
    "    accuracy = (TP + TN) / (TP + FP + FN + TN)\n",
    "    precision = TP / (TP + FP)\n",
    "    recall = TP / (TP + FN)\n",
    "    fallout = FP / (FP + TN)\n",
    "    miss_rate = FN / (TP + FN)\n",
    "    f1_score = 2 * (precision * recall) / (precision + recall)\n",
    "    \n",
    "    return accuracy, precision, recall, fallout, miss_rate, f1_score\n",
    "\n",
    "\n",
    "accuracy, precision, recall, fallout, miss_rate, f1_score = calculate_metrics(TP, FP, FN, TN)\n",
    "\n",
    "print(\"Accuracy:\", accuracy)\n",
    "print(\"Precision:\", precision)\n",
    "print(\"Recall:\", recall)\n",
    "print(\"Fallout:\", fallout)\n",
    "print(\"Miss Rate:\", miss_rate)\n",
    "print(\"F1 Score:\", f1_score)"
   ],
   "metadata": {
    "execution": {
     "iopub.status.busy": "2023-09-02T11:03:21.324168Z",
     "iopub.status.idle": "2023-09-02T11:03:21.325590Z",
     "shell.execute_reply.started": "2023-09-02T11:03:21.325242Z",
     "shell.execute_reply": "2023-09-02T11:03:21.325294Z"
    },
    "trusted": true
   },
   "execution_count": null,
   "outputs": []
  },
  {
   "cell_type": "markdown",
   "source": [
    "<a id=\"section-three\"></a>\n",
    "# [Collaborative Filtering Recommender System -1 ](#headers)"
   ],
   "metadata": {}
  },
  {
   "cell_type": "code",
   "source": [
    "import warnings\n",
    "warnings.filterwarnings(\"ignore\", category=FutureWarning)\n",
    "warnings.filterwarnings(\"ignore\", category=DeprecationWarning)\n",
    "from sklearn.model_selection import train_test_split\n",
    "from scipy.sparse.linalg import svds\n",
    "from scipy.sparse import csr_matrix"
   ],
   "metadata": {
    "execution": {
     "iopub.status.busy": "2023-09-02T11:22:37.055237Z",
     "iopub.execute_input": "2023-09-02T11:22:37.055766Z",
     "iopub.status.idle": "2023-09-02T11:22:37.063697Z",
     "shell.execute_reply.started": "2023-09-02T11:22:37.055731Z",
     "shell.execute_reply": "2023-09-02T11:22:37.062290Z"
    },
    "trusted": true
   },
   "execution_count": null,
   "outputs": []
  },
  {
   "cell_type": "code",
   "source": [
    "df = pd.read_csv('/kaggle/input/retail-data-set/file_out2.csv')\n",
    "\n",
    "pd.DataFrame([{'products': len(df['ProductID'].value_counts()),\n",
    "               'transactions': len(df['InvoiceID'].value_counts()),\n",
    "               'customers': len(df['CustomerID'].value_counts()),\n",
    "              }], columns = ['products', 'transactions', 'customers'], index = ['quantity'])\n",
    "\n",
    "\n",
    "product_counts = df.groupby(['CustomerID', 'ProductID'])['Quantity'].sum().reset_index()\n",
    "product_counts.rename(columns={'Quantity': 'Ratings'}, inplace=True)\n",
    "\n",
    "\n",
    "ratings_df = product_counts[['CustomerID', 'ProductID', 'Ratings']]"
   ],
   "metadata": {
    "execution": {
     "iopub.status.busy": "2023-09-02T11:22:38.448499Z",
     "iopub.execute_input": "2023-09-02T11:22:38.449033Z",
     "iopub.status.idle": "2023-09-02T11:22:38.522091Z",
     "shell.execute_reply.started": "2023-09-02T11:22:38.448996Z",
     "shell.execute_reply": "2023-09-02T11:22:38.520708Z"
    },
    "trusted": true
   },
   "execution_count": null,
   "outputs": []
  },
  {
   "cell_type": "code",
   "source": [
    "scaler = MinMaxScaler(feature_range =(1,5))\n",
    "ratings_df['NormalizedRatings'] = scaler.fit_transform(ratings_df[['Ratings']])\n",
    "\n",
    "user_ratings = ratings_df.pivot(index=\"ProductID\", columns=\"CustomerID\", values=\"NormalizedRatings\")\n",
    "\n",
    "correlation_matrix = user_ratings.corr()\n",
    "\n",
    "means_similars = {} \n",
    "\n",
    "for i in range(len(ratings_df['CustomerID'].unique())): \n",
    "    correlation_matrix[i] = correlation_matrix[i].drop(i)\n",
    "    means_similars[i] = correlation_matrix[i].mean() \n",
    "    \n",
    "new_matrix = []\n",
    "i = 0\n",
    "for row in correlation_matrix:\n",
    "    result = [mns for mns in correlation_matrix[row] if mns > means_similars[i]] \n",
    "    new_matrix.append(result)\n",
    "    i += 1 \n",
    "    if i == 507:\n",
    "        break\n",
    "\n",
    "correlation_matrix =pd.DataFrame(new_matrix)\n",
    "\n",
    "correlation_matrix = correlation_matrix.applymap(lambda x: 0 if pd.isna(x) or x < 0 else x)\n",
    "sorted_ratings = ratings_df.sort_values(by='NormalizedRatings', ascending=False)\n",
    "cleaned_values = [value for value in means_similars.values() if not np.isnan(value)]\n",
    "means_similars_corrs = np.mean(cleaned_values)                                       "
   ],
   "metadata": {
    "execution": {
     "iopub.status.busy": "2023-09-02T11:22:38.525049Z",
     "iopub.execute_input": "2023-09-02T11:22:38.525510Z",
     "iopub.status.idle": "2023-09-02T11:22:39.698514Z",
     "shell.execute_reply.started": "2023-09-02T11:22:38.525475Z",
     "shell.execute_reply": "2023-09-02T11:22:39.697111Z"
    },
    "trusted": true
   },
   "execution_count": null,
   "outputs": []
  },
  {
   "cell_type": "code",
   "source": [
    "targets_dict = {}\n",
    "similar_customer_ids = list(sorted_ratings['CustomerID']) \n",
    "\n",
    "for i in set(list(df['ProductID'])):\n",
    "    target_product_id = i\n",
    "    target_product_ratings = user_ratings.loc[target_product_id, similar_customer_ids]\n",
    "    targets_dict[i] = np.sum(target_product_ratings)\n",
    "\n",
    "df['ProductRating'] = None\n",
    "df = df.set_index('ProductID')\n",
    "df['ProductRating'] = df.index.map(targets_dict)\n",
    "df['ProductRating'] = scaler.fit_transform(df[['ProductRating']])\n",
    "\n",
    "def custom_round(x):\n",
    "    return round(x * 2) / 2\n",
    "\n",
    "df['ProductRating'] = df['ProductRating'].apply(custom_round)\n",
    "df.head()\n"
   ],
   "metadata": {
    "execution": {
     "iopub.status.busy": "2023-09-02T11:22:39.700062Z",
     "iopub.execute_input": "2023-09-02T11:22:39.700410Z",
     "iopub.status.idle": "2023-09-02T11:22:46.166446Z",
     "shell.execute_reply.started": "2023-09-02T11:22:39.700379Z",
     "shell.execute_reply": "2023-09-02T11:22:46.165243Z"
    },
    "trusted": true
   },
   "execution_count": null,
   "outputs": []
  },
  {
   "cell_type": "code",
   "source": [
    "Data = df.drop(columns = ['Unnamed: 0','InvoiceID' , 'Date', 'TotalSales','Discount','Quantity'], axis = 1)"
   ],
   "metadata": {
    "execution": {
     "iopub.status.busy": "2023-09-02T11:22:46.169426Z",
     "iopub.execute_input": "2023-09-02T11:22:46.170078Z",
     "iopub.status.idle": "2023-09-02T11:22:46.176723Z",
     "shell.execute_reply.started": "2023-09-02T11:22:46.170031Z",
     "shell.execute_reply": "2023-09-02T11:22:46.175791Z"
    },
    "trusted": true
   },
   "execution_count": null,
   "outputs": []
  },
  {
   "cell_type": "code",
   "source": [
    "Data = Data.reset_index()"
   ],
   "metadata": {
    "execution": {
     "iopub.status.busy": "2023-09-02T11:22:46.177897Z",
     "iopub.execute_input": "2023-09-02T11:22:46.178916Z",
     "iopub.status.idle": "2023-09-02T11:22:46.190263Z",
     "shell.execute_reply.started": "2023-09-02T11:22:46.178882Z",
     "shell.execute_reply": "2023-09-02T11:22:46.189230Z"
    },
    "trusted": true
   },
   "execution_count": null,
   "outputs": []
  },
  {
   "cell_type": "code",
   "source": [
    "trainset, testset = train_test_split(Data, test_size=0.3, random_state=10)"
   ],
   "metadata": {
    "execution": {
     "iopub.status.busy": "2023-09-02T11:22:46.191842Z",
     "iopub.execute_input": "2023-09-02T11:22:46.192244Z",
     "iopub.status.idle": "2023-09-02T11:22:46.207333Z",
     "shell.execute_reply.started": "2023-09-02T11:22:46.192199Z",
     "shell.execute_reply": "2023-09-02T11:22:46.206236Z"
    },
    "trusted": true
   },
   "execution_count": null,
   "outputs": []
  },
  {
   "cell_type": "code",
   "source": [
    "trainset = trainset.drop_duplicates(subset=[\"ProductID\", \"CustomerID\"])"
   ],
   "metadata": {
    "execution": {
     "iopub.status.busy": "2023-09-02T11:22:46.209065Z",
     "iopub.execute_input": "2023-09-02T11:22:46.209527Z",
     "iopub.status.idle": "2023-09-02T11:22:46.221921Z",
     "shell.execute_reply.started": "2023-09-02T11:22:46.209485Z",
     "shell.execute_reply": "2023-09-02T11:22:46.220654Z"
    },
    "trusted": true
   },
   "execution_count": null,
   "outputs": []
  },
  {
   "cell_type": "code",
   "source": [
    "pivot_df = trainset.pivot(index = 'CustomerID', columns ='ProductID', values = 'ProductRating').fillna(0)\n",
    "pivot_df.shape"
   ],
   "metadata": {
    "execution": {
     "iopub.status.busy": "2023-09-02T11:22:46.223546Z",
     "iopub.execute_input": "2023-09-02T11:22:46.223972Z",
     "iopub.status.idle": "2023-09-02T11:22:46.246488Z",
     "shell.execute_reply.started": "2023-09-02T11:22:46.223940Z",
     "shell.execute_reply": "2023-09-02T11:22:46.245116Z"
    },
    "trusted": true
   },
   "execution_count": null,
   "outputs": []
  },
  {
   "cell_type": "code",
   "source": [
    "pivot_df['user_index'] = np.arange(0, pivot_df.shape[0], 1)\n",
    "pivot_df.set_index(['user_index'], inplace=True)"
   ],
   "metadata": {
    "execution": {
     "iopub.status.busy": "2023-09-02T11:22:46.249400Z",
     "iopub.execute_input": "2023-09-02T11:22:46.249752Z",
     "iopub.status.idle": "2023-09-02T11:22:46.258303Z",
     "shell.execute_reply.started": "2023-09-02T11:22:46.249721Z",
     "shell.execute_reply": "2023-09-02T11:22:46.257236Z"
    },
    "trusted": true
   },
   "execution_count": null,
   "outputs": []
  },
  {
   "cell_type": "code",
   "source": [
    "pivot_df_sparse = csr_matrix(pivot_df)"
   ],
   "metadata": {
    "execution": {
     "iopub.status.busy": "2023-09-02T11:23:59.860574Z",
     "iopub.execute_input": "2023-09-02T11:23:59.860995Z",
     "iopub.status.idle": "2023-09-02T11:23:59.875245Z",
     "shell.execute_reply.started": "2023-09-02T11:23:59.860963Z",
     "shell.execute_reply": "2023-09-02T11:23:59.873870Z"
    },
    "trusted": true
   },
   "execution_count": null,
   "outputs": []
  },
  {
   "cell_type": "code",
   "source": [
    "U, sigma, Vt = svds(pivot_df_sparse, k=10)\n",
    "sigma = np.diag(sigma)"
   ],
   "metadata": {
    "execution": {
     "iopub.status.busy": "2023-09-02T11:24:01.772673Z",
     "iopub.execute_input": "2023-09-02T11:24:01.773724Z",
     "iopub.status.idle": "2023-09-02T11:24:01.855460Z",
     "shell.execute_reply.started": "2023-09-02T11:24:01.773659Z",
     "shell.execute_reply": "2023-09-02T11:24:01.853374Z"
    },
    "trusted": true
   },
   "execution_count": null,
   "outputs": []
  },
  {
   "cell_type": "code",
   "source": [
    "pivot_df.shape"
   ],
   "metadata": {
    "execution": {
     "iopub.status.busy": "2023-09-02T11:24:20.774048Z",
     "iopub.execute_input": "2023-09-02T11:24:20.775765Z",
     "iopub.status.idle": "2023-09-02T11:24:20.783930Z",
     "shell.execute_reply.started": "2023-09-02T11:24:20.775708Z",
     "shell.execute_reply": "2023-09-02T11:24:20.782342Z"
    },
    "trusted": true
   },
   "execution_count": null,
   "outputs": []
  },
  {
   "cell_type": "code",
   "source": [
    "all_user_predicted_ratings = np.dot(np.dot(U, sigma), Vt) \n",
    "\n",
    "preds_df = pd.DataFrame(all_user_predicted_ratings, columns = pivot_df.columns)\n",
    "preds_df.head()"
   ],
   "metadata": {
    "execution": {
     "iopub.status.busy": "2023-09-02T11:24:27.480493Z",
     "iopub.execute_input": "2023-09-02T11:24:27.480967Z",
     "iopub.status.idle": "2023-09-02T11:24:27.542888Z",
     "shell.execute_reply.started": "2023-09-02T11:24:27.480930Z",
     "shell.execute_reply": "2023-09-02T11:24:27.541686Z"
    },
    "trusted": true
   },
   "execution_count": null,
   "outputs": []
  },
  {
   "cell_type": "code",
   "source": [
    "def recommend_items(userID, pivot_df, preds_df, num_recommendations):\n",
    "      \n",
    "    user_idx = userID-1\n",
    "    \n",
    "    \n",
    "    sorted_user_ratings = pivot_df.iloc[user_idx].sort_values(ascending=False)\n",
    "    \n",
    "    sorted_user_predictions = preds_df.iloc[user_idx].sort_values(ascending=False)\n",
    "\n",
    "\n",
    "    temp = pd.concat([sorted_user_ratings, sorted_user_predictions], axis=1)\n",
    "    temp.index.name = 'Recommended Items'\n",
    "    temp.columns = ['user_ratings', 'user_predictions']\n",
    "    \n",
    "    temp = temp.loc[temp.user_ratings == 0]   \n",
    "    temp = temp.sort_values('user_predictions', ascending=False)\n",
    "    print('\\nBelow are the recommended items for user(user_id = {}):\\n'.format(userID))\n",
    "    print(temp.head(num_recommendations))"
   ],
   "metadata": {
    "execution": {
     "iopub.status.busy": "2023-09-02T11:24:34.997156Z",
     "iopub.execute_input": "2023-09-02T11:24:34.997580Z",
     "iopub.status.idle": "2023-09-02T11:24:35.007717Z",
     "shell.execute_reply.started": "2023-09-02T11:24:34.997550Z",
     "shell.execute_reply": "2023-09-02T11:24:35.005981Z"
    },
    "trusted": true
   },
   "execution_count": null,
   "outputs": []
  },
  {
   "cell_type": "code",
   "source": [
    "userID = 20\n",
    "num_recommendations = 5\n",
    "recommend_items(userID, pivot_df, preds_df, num_recommendations)"
   ],
   "metadata": {
    "execution": {
     "iopub.status.busy": "2023-09-02T11:24:39.712717Z",
     "iopub.execute_input": "2023-09-02T11:24:39.713206Z",
     "iopub.status.idle": "2023-09-02T11:24:39.731535Z",
     "shell.execute_reply.started": "2023-09-02T11:24:39.713174Z",
     "shell.execute_reply": "2023-09-02T11:24:39.729733Z"
    },
    "trusted": true
   },
   "execution_count": null,
   "outputs": []
  },
  {
   "cell_type": "code",
   "source": [
    "final_ratings_matrix = trainset.pivot(index = 'CustomerID', columns ='ProductID', values = 'ProductRating').fillna(0)"
   ],
   "metadata": {
    "execution": {
     "iopub.status.busy": "2023-09-02T11:24:55.878779Z",
     "iopub.execute_input": "2023-09-02T11:24:55.879206Z",
     "iopub.status.idle": "2023-09-02T11:24:55.904599Z",
     "shell.execute_reply.started": "2023-09-02T11:24:55.879173Z",
     "shell.execute_reply": "2023-09-02T11:24:55.903081Z"
    },
    "trusted": true
   },
   "execution_count": null,
   "outputs": []
  },
  {
   "cell_type": "code",
   "source": [
    "rmse_df = pd.concat([final_ratings_matrix.mean(), preds_df.mean()], axis=1)\n",
    "rmse_df.columns = ['Avg_actual_ratings', 'Avg_predicted_ratings']\n",
    "print(rmse_df.shape)\n",
    "rmse_df['item_index'] = np.arange(0, rmse_df.shape[0], 1)\n",
    "rmse_df.head()"
   ],
   "metadata": {
    "execution": {
     "iopub.status.busy": "2023-09-02T11:25:00.203750Z",
     "iopub.execute_input": "2023-09-02T11:25:00.204660Z",
     "iopub.status.idle": "2023-09-02T11:25:00.234469Z",
     "shell.execute_reply.started": "2023-09-02T11:25:00.204614Z",
     "shell.execute_reply": "2023-09-02T11:25:00.233113Z"
    },
    "trusted": true
   },
   "execution_count": null,
   "outputs": []
  },
  {
   "cell_type": "code",
   "source": [
    "RMSE = round((((rmse_df.Avg_actual_ratings - rmse_df.Avg_predicted_ratings) ** 2).mean() ** 0.5), 5)\n",
    "print('\\nRMSE SVD Model = {} \\n'.format(RMSE))"
   ],
   "metadata": {
    "execution": {
     "iopub.status.busy": "2023-09-02T11:25:05.875171Z",
     "iopub.execute_input": "2023-09-02T11:25:05.875602Z",
     "iopub.status.idle": "2023-09-02T11:25:05.883509Z",
     "shell.execute_reply.started": "2023-09-02T11:25:05.875570Z",
     "shell.execute_reply": "2023-09-02T11:25:05.882418Z"
    },
    "trusted": true
   },
   "execution_count": null,
   "outputs": []
  },
  {
   "cell_type": "code",
   "source": [
    "avg_actual_ratings = final_ratings_matrix.mean()\n",
    "avg_predicted_ratings = preds_df.mean()\n",
    "\n",
    "mae_df = pd.concat([avg_actual_ratings, avg_predicted_ratings], axis=1)\n",
    "mae_df.columns = ['Avg_actual_ratings', 'Avg_predicted_ratings']\n",
    "\n",
    "mae_df['item_index'] = np.arange(0, mae_df.shape[0], 1)\n",
    "\n",
    "\n",
    "MAE = round((mae_df['Avg_actual_ratings'] - mae_df['Avg_predicted_ratings']).abs().mean(), 5)\n",
    "\n",
    "print('\\nMAE SVD Model = {}\\n'.format(MAE))"
   ],
   "metadata": {
    "execution": {
     "iopub.status.busy": "2023-09-02T11:25:12.013235Z",
     "iopub.execute_input": "2023-09-02T11:25:12.013794Z",
     "iopub.status.idle": "2023-09-02T11:25:12.035907Z",
     "shell.execute_reply.started": "2023-09-02T11:25:12.013758Z",
     "shell.execute_reply": "2023-09-02T11:25:12.033896Z"
    },
    "trusted": true
   },
   "execution_count": null,
   "outputs": []
  },
  {
   "cell_type": "code",
   "source": [
    "userID = 129\n",
    "num_recommendations = 5\n",
    "recommend_items(userID, pivot_df, preds_df, num_recommendations)"
   ],
   "metadata": {
    "execution": {
     "iopub.status.busy": "2023-09-02T11:25:17.042108Z",
     "iopub.execute_input": "2023-09-02T11:25:17.042645Z",
     "iopub.status.idle": "2023-09-02T11:25:17.058343Z",
     "shell.execute_reply.started": "2023-09-02T11:25:17.042607Z",
     "shell.execute_reply": "2023-09-02T11:25:17.057068Z"
    },
    "trusted": true
   },
   "execution_count": null,
   "outputs": []
  },
  {
   "cell_type": "code",
   "source": [
    "from scipy.sparse.linalg import svds\n",
    "final_ratings_matrix = trainset.pivot(index = 'CustomerID', columns ='ProductID', values = 'ProductRating').fillna(0)\n",
    "rmse_mae_simple = {}\n",
    "rmse_mae_normal = {}\n",
    "rmse_mae_item = {}\n",
    "rmse_mae_user = {}\n",
    "rmse_mae_total = {}\n",
    "def rmse_mae_calculate(U,sigma,Vt,k,svd):\n",
    "\n",
    "    all_user_predicted_ratings = np.dot(np.dot(U, sigma), Vt) \n",
    "\n",
    "    preds_df = pd.DataFrame(all_user_predicted_ratings, columns = pivot_df.columns)\n",
    "\n",
    "    rmse_df = pd.concat([final_ratings_matrix.mean(), preds_df.mean()], axis=1)\n",
    "    rmse_df.columns = ['Avg_actual_ratings', 'Avg_predicted_ratings']\n",
    "\n",
    "    rmse_df['item_index'] = np.arange(0, rmse_df.shape[0], 1)\n",
    "    RMSE = round((((rmse_df.Avg_actual_ratings - rmse_df.Avg_predicted_ratings) ** 2).mean() ** 0.5), 5)\n",
    "\n",
    "    avg_actual_ratings = final_ratings_matrix.mean()\n",
    "    avg_predicted_ratings = preds_df.mean()\n",
    "\n",
    "    mae_df = pd.concat([avg_actual_ratings, avg_predicted_ratings], axis=1)\n",
    "    mae_df.columns = ['Avg_actual_ratings', 'Avg_predicted_ratings']\n",
    "    mae_df['item_index'] = np.arange(0, mae_df.shape[0], 1)\n",
    "\n",
    "    MAE = round((mae_df['Avg_actual_ratings'] - mae_df['Avg_predicted_ratings']).abs().mean(), 5)\n",
    "    if svd == \"simple\":\n",
    "        rmse_mae_simple[k] = [RMSE,MAE]\n",
    "    if svd == \"normal\":\n",
    "        rmse_mae_normal[k] = [RMSE,MAE]\n",
    "    if svd == \"miditem\":\n",
    "        rmse_mae_item[k] = [RMSE,MAE]\n",
    "    if svd == \"miduser\":\n",
    "        rmse_mae_user[k] = [RMSE,MAE]\n",
    "    if svd == \"midtotal\":\n",
    "        rmse_mae_total[k] = [RMSE,MAE]\n",
    "    \n"
   ],
   "metadata": {
    "execution": {
     "iopub.status.busy": "2023-09-02T11:25:23.314613Z",
     "iopub.execute_input": "2023-09-02T11:25:23.315081Z",
     "iopub.status.idle": "2023-09-02T11:25:23.344147Z",
     "shell.execute_reply.started": "2023-09-02T11:25:23.315045Z",
     "shell.execute_reply": "2023-09-02T11:25:23.342993Z"
    },
    "trusted": true
   },
   "execution_count": null,
   "outputs": []
  },
  {
   "cell_type": "code",
   "source": [
    "for i in range(1,pivot_df.shape[0]):\n",
    "    k = i\n",
    "    # SimpleSVD\n",
    "    pivot_df_sparse = csr_matrix(pivot_df)\n",
    "    U_simple, sigma_simple, Vt_simple = svds(pivot_df_sparse, k=k)\n",
    "    sigma_simple = np.diag(sigma_simple)\n",
    "    rmse_mae_calculate(U_simple,sigma_simple,Vt_simple,k,\"simple\")\n",
    "    # NormalSVD\n",
    "    U_normal, sigma_normal, Vt_normal = svds(pivot_df_sparse, k=k)\n",
    "    sigma_normal = np.diag(sigma_normal)\n",
    "    U_normal = U_normal.dot(sigma_normal)\n",
    "    rmse_mae_calculate(U_normal,sigma_normal,Vt_normal,k,\"normal\")\n",
    "\n",
    "    # MidItemSVD\n",
    "    U_mid_item, sigma_mid_item, Vt_mid_item = svds(pivot_df_sparse, k=k)\n",
    "    sigma_mid_item = np.diag(sigma_mid_item)\n",
    "    Vt_mid_item = sigma_mid_item.dot(Vt_mid_item)\n",
    "    rmse_mae_calculate(U_mid_item,sigma_mid_item,Vt_mid_item,k,\"miditem\")\n",
    "\n",
    "    # MidUserSVD\n",
    "    U_mid_user, sigma_mid_user, Vt_mid_user = svds(pivot_df_sparse, k=k)\n",
    "    sigma_mid_user = np.diag(sigma_mid_user)\n",
    "    U_mid_user = U_mid_user.dot(sigma_mid_user)\n",
    "    rmse_mae_calculate(U_mid_user,sigma_mid_user,Vt_mid_user,k,\"miduser\")\n",
    "\n",
    "    # MidTotalSVD\n",
    "    U_mid_total, sigma_mid_total, Vt_mid_total = svds(pivot_df_sparse, k=k)\n",
    "    sigma_mid_total = np.diag(sigma_mid_total)\n",
    "    U_mid_total = U_mid_total.dot(sigma_mid_total)\n",
    "    Vt_mid_total = sigma_mid_total.dot(Vt_mid_total)\n",
    "    rmse_mae_calculate(U_mid_total,sigma_mid_total,Vt_mid_total,k, \"midtotal\")\n"
   ],
   "metadata": {
    "execution": {
     "iopub.status.busy": "2023-09-02T11:26:34.285419Z",
     "iopub.execute_input": "2023-09-02T11:26:34.285830Z",
     "iopub.status.idle": "2023-09-02T11:50:05.987094Z",
     "shell.execute_reply.started": "2023-09-02T11:26:34.285800Z",
     "shell.execute_reply": "2023-09-02T11:50:05.984913Z"
    },
    "trusted": true
   },
   "execution_count": null,
   "outputs": []
  },
  {
   "cell_type": "code",
   "source": [
    "def plot_rmse_mae(dictionary, model_name):\n",
    "    k_values = list(dictionary.keys())\n",
    "    rmse_values = [item[0] for item in dictionary.values()]\n",
    "    mae_values = [item[1] for item in dictionary.values()]\n",
    "\n",
    "    plt.figure(figsize=(10, 5))\n",
    "    plt.plot(k_values, rmse_values, label='RMSE')\n",
    "    plt.plot(k_values, mae_values, label='MAE')\n",
    "    plt.xlabel('K Değeri')\n",
    "    plt.ylabel('Hata Değeri')\n",
    "    plt.title(f'{model_name} Modeli İçin RMSE ve MAE Değerleri')\n",
    "    plt.legend()\n",
    "    plt.grid()\n",
    "    plt.show()\n",
    "\n",
    "plot_rmse_mae(rmse_mae_simple, 'SimpleSVD')\n",
    "plot_rmse_mae(rmse_mae_normal, 'NormalSVD')\n",
    "plot_rmse_mae(rmse_mae_item, 'MidItemSVD')\n",
    "plot_rmse_mae(rmse_mae_user, 'MidUserSVD')\n",
    "plot_rmse_mae(rmse_mae_total, 'MidTotalSVD')"
   ],
   "metadata": {
    "execution": {
     "iopub.status.busy": "2023-09-02T11:50:05.990856Z",
     "iopub.execute_input": "2023-09-02T11:50:05.992586Z",
     "iopub.status.idle": "2023-09-02T11:50:07.520337Z",
     "shell.execute_reply.started": "2023-09-02T11:50:05.992513Z",
     "shell.execute_reply": "2023-09-02T11:50:07.518962Z"
    },
    "trusted": true
   },
   "execution_count": null,
   "outputs": []
  },
  {
   "cell_type": "markdown",
   "source": [
    "<a id=\"section-four\"></a>\n",
    "# [Collaborative Filtering Recommender System - 2](#headers)"
   ],
   "metadata": {}
  },
  {
   "cell_type": "code",
   "source": [
    "from sklearn.cluster import KMeans\n",
    "from sklearn.metrics.pairwise import cosine_similarity"
   ],
   "metadata": {
    "execution": {
     "iopub.status.busy": "2023-09-02T11:52:22.214294Z",
     "iopub.execute_input": "2023-09-02T11:52:22.214849Z",
     "iopub.status.idle": "2023-09-02T11:52:22.442418Z",
     "shell.execute_reply.started": "2023-09-02T11:52:22.214813Z",
     "shell.execute_reply": "2023-09-02T11:52:22.440703Z"
    },
    "trusted": true
   },
   "execution_count": null,
   "outputs": []
  },
  {
   "cell_type": "code",
   "source": [
    "df = pd.read_csv(\"/kaggle/input/retail-data-set/file_out2.csv\")"
   ],
   "metadata": {
    "execution": {
     "iopub.status.busy": "2023-09-02T11:52:22.445413Z",
     "iopub.execute_input": "2023-09-02T11:52:22.445928Z",
     "iopub.status.idle": "2023-09-02T11:52:22.504655Z",
     "shell.execute_reply.started": "2023-09-02T11:52:22.445878Z",
     "shell.execute_reply": "2023-09-02T11:52:22.503107Z"
    },
    "trusted": true
   },
   "execution_count": null,
   "outputs": []
  },
  {
   "cell_type": "code",
   "source": [
    "df.describe()"
   ],
   "metadata": {
    "execution": {
     "iopub.status.busy": "2023-09-02T11:52:22.506558Z",
     "iopub.execute_input": "2023-09-02T11:52:22.506949Z",
     "iopub.status.idle": "2023-09-02T11:52:22.551154Z",
     "shell.execute_reply.started": "2023-09-02T11:52:22.506915Z",
     "shell.execute_reply": "2023-09-02T11:52:22.549860Z"
    },
    "trusted": true
   },
   "execution_count": null,
   "outputs": []
  },
  {
   "cell_type": "code",
   "source": [
    "df['Date'] = pd.to_datetime(df['Date'], format = '%Y-%m-%d')"
   ],
   "metadata": {
    "execution": {
     "iopub.status.busy": "2023-09-02T11:53:24.005035Z",
     "iopub.execute_input": "2023-09-02T11:53:24.005514Z",
     "iopub.status.idle": "2023-09-02T11:53:24.027394Z",
     "shell.execute_reply.started": "2023-09-02T11:53:24.005479Z",
     "shell.execute_reply": "2023-09-02T11:53:24.025905Z"
    },
    "trusted": true
   },
   "execution_count": null,
   "outputs": []
  },
  {
   "cell_type": "code",
   "source": [
    "sns.heatmap(df.corr(),annot=True, cmap=\"plasma\")"
   ],
   "metadata": {
    "execution": {
     "iopub.status.busy": "2023-09-02T11:53:26.457502Z",
     "iopub.execute_input": "2023-09-02T11:53:26.457930Z",
     "iopub.status.idle": "2023-09-02T11:53:27.095338Z",
     "shell.execute_reply.started": "2023-09-02T11:53:26.457899Z",
     "shell.execute_reply": "2023-09-02T11:53:27.094332Z"
    },
    "trusted": true
   },
   "execution_count": null,
   "outputs": []
  },
  {
   "cell_type": "code",
   "source": [
    "df.drop(\"Unnamed: 0\", axis = 1, inplace = True)"
   ],
   "metadata": {
    "execution": {
     "iopub.status.busy": "2023-09-02T11:53:39.487751Z",
     "iopub.execute_input": "2023-09-02T11:53:39.488265Z",
     "iopub.status.idle": "2023-09-02T11:53:39.497688Z",
     "shell.execute_reply.started": "2023-09-02T11:53:39.488230Z",
     "shell.execute_reply": "2023-09-02T11:53:39.495853Z"
    },
    "trusted": true
   },
   "execution_count": null,
   "outputs": []
  },
  {
   "cell_type": "code",
   "source": [
    "pd.DataFrame([{'products': len(df['ProductID'].value_counts()),\n",
    "               'transactions': len(df['InvoiceID'].value_counts()),\n",
    "               'customers': len(df['CustomerID'].value_counts()),\n",
    "              }], columns = ['products', 'transactions', 'customers'], index = ['quantity'])"
   ],
   "metadata": {
    "execution": {
     "iopub.status.busy": "2023-09-02T11:53:39.509858Z",
     "iopub.execute_input": "2023-09-02T11:53:39.510891Z",
     "iopub.status.idle": "2023-09-02T11:53:39.534010Z",
     "shell.execute_reply.started": "2023-09-02T11:53:39.510840Z",
     "shell.execute_reply": "2023-09-02T11:53:39.532157Z"
    },
    "trusted": true
   },
   "execution_count": null,
   "outputs": []
  },
  {
   "cell_type": "code",
   "source": [
    "two_thirds_len = int(len(df) * 2 / 3)\n",
    "filtered_df = df.iloc[two_thirds_len:]\n",
    "df = df.iloc[:two_thirds_len]"
   ],
   "metadata": {
    "execution": {
     "iopub.status.busy": "2023-09-02T11:53:39.538574Z",
     "iopub.execute_input": "2023-09-02T11:53:39.539030Z",
     "iopub.status.idle": "2023-09-02T11:53:39.545951Z",
     "shell.execute_reply.started": "2023-09-02T11:53:39.538995Z",
     "shell.execute_reply": "2023-09-02T11:53:39.544860Z"
    },
    "trusted": true
   },
   "execution_count": null,
   "outputs": []
  },
  {
   "cell_type": "code",
   "source": [
    "recency_df = df.groupby(['CustomerID'],as_index=False)['Date'].max().copy()\n",
    "recency_df.columns = ['CustomerID','LastPurchaseDate']\n",
    "recency_df.head()"
   ],
   "metadata": {
    "execution": {
     "iopub.status.busy": "2023-09-02T11:53:39.547823Z",
     "iopub.execute_input": "2023-09-02T11:53:39.548537Z",
     "iopub.status.idle": "2023-09-02T11:53:39.574596Z",
     "shell.execute_reply.started": "2023-09-02T11:53:39.548496Z",
     "shell.execute_reply": "2023-09-02T11:53:39.573603Z"
    },
    "trusted": true
   },
   "execution_count": null,
   "outputs": []
  },
  {
   "cell_type": "code",
   "source": [
    "now =df['Date'].max()"
   ],
   "metadata": {
    "execution": {
     "iopub.status.busy": "2023-09-02T11:53:39.580353Z",
     "iopub.execute_input": "2023-09-02T11:53:39.581119Z",
     "iopub.status.idle": "2023-09-02T11:53:39.589687Z",
     "shell.execute_reply.started": "2023-09-02T11:53:39.581080Z",
     "shell.execute_reply": "2023-09-02T11:53:39.587710Z"
    },
    "trusted": true
   },
   "execution_count": null,
   "outputs": []
  },
  {
   "cell_type": "code",
   "source": [
    "recency_df['Recency'] = recency_df.LastPurchaseDate.apply(lambda x : (now - x).days)\n",
    "recency_df.drop(columns=['LastPurchaseDate'],inplace=True)"
   ],
   "metadata": {
    "execution": {
     "iopub.status.busy": "2023-09-02T11:53:39.592490Z",
     "iopub.execute_input": "2023-09-02T11:53:39.592986Z",
     "iopub.status.idle": "2023-09-02T11:53:39.617378Z",
     "shell.execute_reply.started": "2023-09-02T11:53:39.592949Z",
     "shell.execute_reply": "2023-09-02T11:53:39.615884Z"
    },
    "trusted": true
   },
   "execution_count": null,
   "outputs": []
  },
  {
   "cell_type": "code",
   "source": [
    "frequency_df = df.copy()\n",
    "frequency_df.drop_duplicates(subset=['CustomerID','InvoiceID'], keep=\"first\", inplace=True)\n",
    "frequency_df = frequency_df.groupby('CustomerID',as_index=False)['InvoiceID'].count()\n",
    "frequency_df.columns = ['CustomerID','Frequency']\n",
    "frequency_df.head()"
   ],
   "metadata": {
    "execution": {
     "iopub.status.busy": "2023-09-02T11:53:39.715165Z",
     "iopub.execute_input": "2023-09-02T11:53:39.716666Z",
     "iopub.status.idle": "2023-09-02T11:53:39.738038Z",
     "shell.execute_reply.started": "2023-09-02T11:53:39.716623Z",
     "shell.execute_reply": "2023-09-02T11:53:39.735666Z"
    },
    "trusted": true
   },
   "execution_count": null,
   "outputs": []
  },
  {
   "cell_type": "code",
   "source": [
    "monetary_df=df.groupby('CustomerID',as_index=False)['TotalSales'].sum().copy()\n",
    "monetary_df.columns = ['CustomerID','Monetary']"
   ],
   "metadata": {
    "execution": {
     "iopub.status.busy": "2023-09-02T11:53:39.742997Z",
     "iopub.execute_input": "2023-09-02T11:53:39.743581Z",
     "iopub.status.idle": "2023-09-02T11:53:39.753227Z",
     "shell.execute_reply.started": "2023-09-02T11:53:39.743540Z",
     "shell.execute_reply": "2023-09-02T11:53:39.751997Z"
    },
    "trusted": true
   },
   "execution_count": null,
   "outputs": []
  },
  {
   "cell_type": "code",
   "source": [
    "rf = recency_df.merge(frequency_df,left_on='CustomerID',right_on='CustomerID').copy()\n",
    "\n",
    "rfm = rf.merge(monetary_df,left_on='CustomerID',right_on='CustomerID').copy()\n",
    "\n",
    "rfm.set_index('CustomerID',inplace=True)\n",
    "rfm.head()"
   ],
   "metadata": {
    "execution": {
     "iopub.status.busy": "2023-09-02T11:53:39.754674Z",
     "iopub.execute_input": "2023-09-02T11:53:39.755965Z",
     "iopub.status.idle": "2023-09-02T11:53:39.785788Z",
     "shell.execute_reply.started": "2023-09-02T11:53:39.755928Z",
     "shell.execute_reply": "2023-09-02T11:53:39.784288Z"
    },
    "trusted": true
   },
   "execution_count": null,
   "outputs": []
  },
  {
   "cell_type": "code",
   "source": [
    "rfm_analysis = rfm.copy()"
   ],
   "metadata": {
    "execution": {
     "iopub.status.busy": "2023-09-02T11:53:39.787037Z",
     "iopub.execute_input": "2023-09-02T11:53:39.787674Z",
     "iopub.status.idle": "2023-09-02T11:53:39.793714Z",
     "shell.execute_reply.started": "2023-09-02T11:53:39.787639Z",
     "shell.execute_reply": "2023-09-02T11:53:39.792344Z"
    },
    "trusted": true
   },
   "execution_count": null,
   "outputs": []
  },
  {
   "cell_type": "code",
   "source": [
    "rfm[\"recency_score\"] = pd.qcut(rfm[\"Recency\"], 5, labels=[5, 4, 3, 2, 1])\n",
    "rfm[\"frequency_score\"] = pd.qcut(rfm[\"Frequency\"].rank(method= \"first\"), 5, labels=[1, 2, 3, 4, 5])\n",
    "rfm[\"monetary_score\"] = pd.qcut(rfm[\"Monetary\"], 5, labels=[1, 2, 3, 4, 5])\n",
    "\n",
    "rfm.head()"
   ],
   "metadata": {
    "execution": {
     "iopub.status.busy": "2023-09-02T11:53:39.796982Z",
     "iopub.execute_input": "2023-09-02T11:53:39.797408Z",
     "iopub.status.idle": "2023-09-02T11:53:39.829061Z",
     "shell.execute_reply.started": "2023-09-02T11:53:39.797375Z",
     "shell.execute_reply": "2023-09-02T11:53:39.827608Z"
    },
    "trusted": true
   },
   "execution_count": null,
   "outputs": []
  },
  {
   "cell_type": "code",
   "source": [
    "rfm[\"RFM_SCORE\"] = (rfm['recency_score'].astype(str) +\n",
    "                        rfm['frequency_score'].astype(str))"
   ],
   "metadata": {
    "execution": {
     "iopub.status.busy": "2023-09-02T11:53:39.832516Z",
     "iopub.execute_input": "2023-09-02T11:53:39.833493Z",
     "iopub.status.idle": "2023-09-02T11:53:39.841985Z",
     "shell.execute_reply.started": "2023-09-02T11:53:39.833434Z",
     "shell.execute_reply": "2023-09-02T11:53:39.840920Z"
    },
    "trusted": true
   },
   "execution_count": null,
   "outputs": []
  },
  {
   "cell_type": "code",
   "source": [
    "seg_map = {\n",
    "    r'[1-2][1-2]': 'hibernating',\n",
    "    r'[1-2][3-4]': 'at_Risk',\n",
    "    r'[1-2]5': 'cant_loose',\n",
    "    r'3[1-2]': 'about_to_sleep',\n",
    "    r'33': 'need_attention',\n",
    "    r'[3-4][4-5]': 'loyal_customers',\n",
    "    r'41': 'promising',\n",
    "    r'51': 'new_customers',\n",
    "    r'[4-5][2-3]': 'potential_loyalists',\n",
    "    r'5[4-5]': 'champions'\n",
    "}\n",
    "\n",
    "rfm[\"segment\"] = rfm[\"RFM_SCORE\"].replace(seg_map, regex=True)\n",
    "\n",
    "new_df = pd.DataFrame()\n",
    "\n",
    "new_df[\"new_customer_id\"] = rfm[rfm[\"segment\"] == \"new_customers\"].index\n",
    "\n",
    "new_df[\"new_customer_id\"] = new_df[\"new_customer_id\"].astype(int)\n"
   ],
   "metadata": {
    "execution": {
     "iopub.status.busy": "2023-09-02T11:53:39.843504Z",
     "iopub.execute_input": "2023-09-02T11:53:39.845223Z",
     "iopub.status.idle": "2023-09-02T11:53:39.874494Z",
     "shell.execute_reply.started": "2023-09-02T11:53:39.845182Z",
     "shell.execute_reply": "2023-09-02T11:53:39.873205Z"
    },
    "trusted": true
   },
   "execution_count": null,
   "outputs": []
  },
  {
   "cell_type": "code",
   "source": [
    "rfm.head()"
   ],
   "metadata": {
    "execution": {
     "iopub.status.busy": "2023-09-02T11:53:39.877853Z",
     "iopub.execute_input": "2023-09-02T11:53:39.878261Z",
     "iopub.status.idle": "2023-09-02T11:53:39.897251Z",
     "shell.execute_reply.started": "2023-09-02T11:53:39.878227Z",
     "shell.execute_reply": "2023-09-02T11:53:39.895762Z"
    },
    "trusted": true
   },
   "execution_count": null,
   "outputs": []
  },
  {
   "cell_type": "code",
   "source": [
    "rfm_segmentation = rfm_analysis.copy()\n",
    "\n",
    "Nc = range(1, 20)\n",
    "kmeans = [KMeans(n_clusters=i) for i in Nc]\n",
    "score = [kmeans[i].fit(rfm_segmentation).score(rfm_segmentation) for i in range(len(kmeans))]\n",
    "\n",
    "plt.figure(figsize=(10, 6))\n",
    "plt.style.use('seaborn-whitegrid')\n",
    "\n",
    "plt.plot(Nc, score, marker='o', linestyle='-', color='b')\n",
    "\n",
    "plt.xlabel('Küme Sayısı')\n",
    "plt.ylabel('Hata Skoru')\n",
    "plt.title('Dirsek Metodu Uygulaması Sonucu Oluşan Grafik')\n",
    "\n",
    "plt.grid(True, linestyle='--', alpha=0.5)\n",
    "\n",
    "plt.annotate('Dirsek Noktası', xy=(7, score[3]), xytext=(8, score[1]),\n",
    "             arrowprops=dict(facecolor='red', arrowstyle='->'))\n",
    "\n",
    "plt.show()"
   ],
   "metadata": {
    "execution": {
     "iopub.status.busy": "2023-09-02T11:53:39.899254Z",
     "iopub.execute_input": "2023-09-02T11:53:39.900078Z",
     "iopub.status.idle": "2023-09-02T11:53:41.269529Z",
     "shell.execute_reply.started": "2023-09-02T11:53:39.900032Z",
     "shell.execute_reply": "2023-09-02T11:53:41.268317Z"
    },
    "trusted": true
   },
   "execution_count": null,
   "outputs": []
  },
  {
   "cell_type": "code",
   "source": [
    "kmeans = KMeans(n_clusters=3, random_state=0).fit(rfm_segmentation)\n",
    "\n",
    "rfm_segmentation['cluster'] = kmeans.labels_\n",
    "rfm_segmentation[rfm_segmentation.cluster == 0].head(5)"
   ],
   "metadata": {
    "execution": {
     "iopub.status.busy": "2023-09-02T11:53:41.271366Z",
     "iopub.execute_input": "2023-09-02T11:53:41.272137Z",
     "iopub.status.idle": "2023-09-02T11:53:41.311351Z",
     "shell.execute_reply.started": "2023-09-02T11:53:41.272092Z",
     "shell.execute_reply": "2023-09-02T11:53:41.310210Z"
    },
    "trusted": true
   },
   "execution_count": null,
   "outputs": []
  },
  {
   "cell_type": "code",
   "source": [
    "import matplotlib.pyplot as plt\n",
    "from sklearn.metrics import silhouette_score\n",
    "\n",
    "range_n_clusters = [2, 3, 4, 5, 6, 7, 8]\n",
    "silhouette_scores = []\n",
    "\n",
    "for num_clusters in range_n_clusters:\n",
    "    kmeans = KMeans(n_clusters=num_clusters, max_iter=50)\n",
    "    kmeans.fit(rfm_segmentation)\n",
    "    cluster_labels = kmeans.labels_\n",
    "    silhouette_avg = silhouette_score(rfm_segmentation, cluster_labels)\n",
    "    silhouette_scores.append(silhouette_avg)\n",
    "    print(\"For n_clusters={0}, the silhouette score is {1}\".format(num_clusters, silhouette_avg))\n",
    "\n",
    "\n",
    "plt.figure(figsize=(8, 6))\n",
    "\n",
    "plt.plot(range_n_clusters, silhouette_scores, marker='o', linestyle='-', color='b')\n",
    "\n",
    "plt.xlabel('Küme Sayısı')\n",
    "plt.ylabel('Silhouette Skoru')\n",
    "plt.title('Silhouette Analizi')\n",
    "\n",
    "\n",
    "plt.show()"
   ],
   "metadata": {
    "execution": {
     "iopub.status.busy": "2023-09-02T12:26:13.479809Z",
     "iopub.execute_input": "2023-09-02T12:26:13.480303Z",
     "iopub.status.idle": "2023-09-02T12:26:14.841400Z",
     "shell.execute_reply.started": "2023-09-02T12:26:13.480245Z",
     "shell.execute_reply": "2023-09-02T12:26:14.840170Z"
    },
    "trusted": true
   },
   "execution_count": null,
   "outputs": []
  },
  {
   "cell_type": "code",
   "source": [
    "kmeans = KMeans(n_clusters=7, random_state=0).fit(rfm_segmentation)\n",
    "\n",
    "rfm_segmentation['cluster'] = kmeans.labels_\n",
    "rfm_segmentation[rfm_segmentation.cluster == 0].head()"
   ],
   "metadata": {
    "execution": {
     "iopub.status.busy": "2023-09-02T11:53:43.052851Z",
     "iopub.execute_input": "2023-09-02T11:53:43.053289Z",
     "iopub.status.idle": "2023-09-02T11:53:43.427973Z",
     "shell.execute_reply.started": "2023-09-02T11:53:43.053242Z",
     "shell.execute_reply": "2023-09-02T11:53:43.426934Z"
    },
    "trusted": true
   },
   "execution_count": null,
   "outputs": []
  },
  {
   "cell_type": "code",
   "source": [
    "rfm_segmentation.head()"
   ],
   "metadata": {
    "execution": {
     "iopub.status.busy": "2023-09-02T12:00:31.066987Z",
     "iopub.execute_input": "2023-09-02T12:00:31.067514Z",
     "iopub.status.idle": "2023-09-02T12:00:31.083809Z",
     "shell.execute_reply.started": "2023-09-02T12:00:31.067477Z",
     "shell.execute_reply": "2023-09-02T12:00:31.082106Z"
    },
    "trusted": true
   },
   "execution_count": null,
   "outputs": []
  },
  {
   "cell_type": "code",
   "source": [
    "sample_rfm = pd.DataFrame(columns=['Recency', 'Frequency', 'Monetary'])\n",
    "sample_dict = {}\n",
    "for i in range(0, 7,2):\n",
    "    if i != 2:\n",
    "        sample_dict[i] = rfm_segmentation[rfm_segmentation.cluster == i].mean()\n",
    "sample_rfm = pd.DataFrame(sample_dict).T.rename_axis('cluster')"
   ],
   "metadata": {
    "execution": {
     "iopub.status.busy": "2023-09-02T12:08:26.384503Z",
     "iopub.execute_input": "2023-09-02T12:08:26.385020Z",
     "iopub.status.idle": "2023-09-02T12:08:26.401342Z",
     "shell.execute_reply.started": "2023-09-02T12:08:26.384984Z",
     "shell.execute_reply": "2023-09-02T12:08:26.399678Z"
    },
    "trusted": true
   },
   "execution_count": null,
   "outputs": []
  },
  {
   "cell_type": "code",
   "source": [
    "sample_rfm.drop(columns = ['cluster'])"
   ],
   "metadata": {
    "execution": {
     "iopub.status.busy": "2023-09-02T12:09:30.539096Z",
     "iopub.execute_input": "2023-09-02T12:09:30.540602Z",
     "iopub.status.idle": "2023-09-02T12:09:30.555622Z",
     "shell.execute_reply.started": "2023-09-02T12:09:30.540558Z",
     "shell.execute_reply": "2023-09-02T12:09:30.554022Z"
    },
    "trusted": true
   },
   "execution_count": null,
   "outputs": []
  },
  {
   "cell_type": "code",
   "source": [
    "import matplotlib.pyplot as plt\n",
    "\n",
    "cluster_labels = rfm_segmentation['cluster']\n",
    "\n",
    "cluster_counts = cluster_labels.value_counts().sort_index()\n",
    "\n",
    "\n",
    "plt.bar(cluster_counts.index, cluster_counts.values)\n",
    "\n",
    "for i, count in enumerate(cluster_counts.values):\n",
    "    plt.text(i, count, str(count), ha='center', va='bottom')\n",
    "\n",
    "plt.xlabel('Küme Etiketi')\n",
    "plt.ylabel('Kişi Sayısı')\n",
    "plt.title('Müşteri Segmentasyonu sonucu küme dağılımı')\n",
    "\n",
    "plt.xticks(cluster_counts.index)\n",
    "plt.tight_layout()\n",
    "\n",
    "plt.show()\n"
   ],
   "metadata": {
    "execution": {
     "iopub.status.busy": "2023-09-02T12:02:17.423375Z",
     "iopub.execute_input": "2023-09-02T12:02:17.424018Z",
     "iopub.status.idle": "2023-09-02T12:02:17.934593Z",
     "shell.execute_reply.started": "2023-09-02T12:02:17.423978Z",
     "shell.execute_reply": "2023-09-02T12:02:17.932617Z"
    },
    "trusted": true
   },
   "execution_count": null,
   "outputs": []
  },
  {
   "cell_type": "code",
   "source": [
    "merged_df = pd.merge(df, rfm_segmentation, on='CustomerID', how='left', suffixes=('', '_rfm'))"
   ],
   "metadata": {
    "execution": {
     "iopub.status.busy": "2023-09-02T12:09:43.598256Z",
     "iopub.execute_input": "2023-09-02T12:09:43.598766Z",
     "iopub.status.idle": "2023-09-02T12:09:43.613827Z",
     "shell.execute_reply.started": "2023-09-02T12:09:43.598728Z",
     "shell.execute_reply": "2023-09-02T12:09:43.612213Z"
    },
    "trusted": true
   },
   "execution_count": null,
   "outputs": []
  },
  {
   "cell_type": "code",
   "source": [
    "merged_df.drop([\"Frequency\",\"Recency\",\"Monetary\"], axis = 1, inplace = True)"
   ],
   "metadata": {
    "execution": {
     "iopub.status.busy": "2023-09-02T12:09:43.616253Z",
     "iopub.execute_input": "2023-09-02T12:09:43.616716Z",
     "iopub.status.idle": "2023-09-02T12:09:43.627456Z",
     "shell.execute_reply.started": "2023-09-02T12:09:43.616682Z",
     "shell.execute_reply": "2023-09-02T12:09:43.625820Z"
    },
    "trusted": true
   },
   "execution_count": null,
   "outputs": []
  },
  {
   "cell_type": "code",
   "source": [
    "merged_df.head()"
   ],
   "metadata": {
    "execution": {
     "iopub.status.busy": "2023-09-02T12:09:43.629964Z",
     "iopub.execute_input": "2023-09-02T12:09:43.630371Z",
     "iopub.status.idle": "2023-09-02T12:09:43.656001Z",
     "shell.execute_reply.started": "2023-09-02T12:09:43.630338Z",
     "shell.execute_reply": "2023-09-02T12:09:43.654326Z"
    },
    "trusted": true
   },
   "execution_count": null,
   "outputs": []
  },
  {
   "cell_type": "code",
   "source": [
    "invoiceIDs = merged_df['InvoiceID'].unique()\n",
    "customer_vectors = {}\n",
    "\n",
    "for i in invoiceIDs:\n",
    "    grouped_df = merged_df[merged_df['InvoiceID'] == i][['CustomerID', 'ProductID', 'cluster','Quantity']]\n",
    "    grouped_df = grouped_df.groupby('CustomerID')[['ProductID', 'cluster','Quantity']].agg(list).reset_index()\n",
    "    \n",
    "    for _, row in grouped_df.iterrows():\n",
    "        customer_id = row['CustomerID']\n",
    "        product_ids = row['ProductID']\n",
    "        clusters = row['cluster']\n",
    "        quantities = row['Quantity']\n",
    "        \n",
    "        if customer_id not in customer_vectors:\n",
    "            customer_vectors[customer_id] = {'ProductID': [], 'cluster': [],'Quantity':[]}\n",
    "        \n",
    "        customer_vectors[customer_id]['ProductID'].extend(product_ids)\n",
    "        customer_vectors[customer_id]['cluster'].extend(clusters)\n",
    "        customer_vectors[customer_id]['Quantity'].extend(clusters)\n"
   ],
   "metadata": {
    "execution": {
     "iopub.status.busy": "2023-09-02T12:09:43.659214Z",
     "iopub.execute_input": "2023-09-02T12:09:43.659685Z",
     "iopub.status.idle": "2023-09-02T12:10:55.523396Z",
     "shell.execute_reply.started": "2023-09-02T12:09:43.659651Z",
     "shell.execute_reply": "2023-09-02T12:10:55.521894Z"
    },
    "trusted": true
   },
   "execution_count": null,
   "outputs": []
  },
  {
   "cell_type": "code",
   "source": [
    "dict_deneme = {}\n",
    "index = 0\n",
    "customer_mapping = {}\n",
    "reverse_customer_mapping = {}\n",
    "customer_vectors = {}\n",
    "for customer_id in merged_df['CustomerID'].unique():\n",
    "    customer_vectors[customer_id] = [merged_df[merged_df['CustomerID'] == customer_id]['ProductID'],\n",
    "        merged_df[merged_df['CustomerID'] == customer_id]['cluster'],merged_df[merged_df['CustomerID'] == customer_id]['Quantity']]\n",
    "    customer_mapping[customer_id] = index\n",
    "    reverse_customer_mapping[index] = customer_id\n",
    "    index += 1\n",
    "\n",
    "def user_item_collaborative_filtering(user_id, top_n=5):\n",
    "    \n",
    "    max_length = max(len(customer_vectors[i][0]) for i in range(len(customer_vectors)) if i in customer_vectors)\n",
    "    user_vector = np.array(\n",
    "        list(customer_vectors[user_id][0]) + [0] * (max_length - len(customer_vectors[user_id][0]))).reshape(1, -1)\n",
    "    stacked_vectors = []\n",
    "    for i in range(len(customer_vectors)):\n",
    "        if i in customer_vectors:\n",
    "            vector = customer_vectors[i][0].tolist()\n",
    "            padded_vector = vector + [0] * (max_length - len(vector))\n",
    "            stacked_vectors.append(padded_vector)\n",
    "    similarities = cosine_similarity(user_vector, np.vstack(stacked_vectors))\n",
    "    similar_indices = similarities.argsort()[0][::-1][1:top_n+1]\n",
    "    recommended_products = []\n",
    "    dict_deneme[user_id] = similarities\n",
    "    sim_deneme = similarities\n",
    "    for index in similar_indices:\n",
    "        similar_user_id = reverse_customer_mapping[index]\n",
    "        recommended_products.extend(customer_vectors[similar_user_id][0])\n",
    "    unique_recommended_products = list(set(recommended_products))\n",
    "\n",
    "    return unique_recommended_products[:top_n]\n"
   ],
   "metadata": {
    "execution": {
     "iopub.status.busy": "2023-09-02T12:10:55.526575Z",
     "iopub.execute_input": "2023-09-02T12:10:55.527382Z",
     "iopub.status.idle": "2023-09-02T12:10:56.199200Z",
     "shell.execute_reply.started": "2023-09-02T12:10:55.527333Z",
     "shell.execute_reply": "2023-09-02T12:10:56.197819Z"
    },
    "trusted": true
   },
   "execution_count": null,
   "outputs": []
  },
  {
   "cell_type": "code",
   "source": [
    "user_item_collaborative_filtering(10,5)"
   ],
   "metadata": {
    "execution": {
     "iopub.status.busy": "2023-09-02T12:10:56.201099Z",
     "iopub.execute_input": "2023-09-02T12:10:56.201925Z",
     "iopub.status.idle": "2023-09-02T12:10:56.403357Z",
     "shell.execute_reply.started": "2023-09-02T12:10:56.201878Z",
     "shell.execute_reply": "2023-09-02T12:10:56.401416Z"
    },
    "trusted": true
   },
   "execution_count": null,
   "outputs": []
  },
  {
   "cell_type": "code",
   "source": [
    "# CustomerID = 10 olan müşterinin cos similarity matrisi;"
   ],
   "metadata": {
    "execution": {
     "iopub.status.busy": "2023-09-02T12:10:56.408385Z",
     "iopub.execute_input": "2023-09-02T12:10:56.409008Z",
     "iopub.status.idle": "2023-09-02T12:10:56.415226Z",
     "shell.execute_reply.started": "2023-09-02T12:10:56.408957Z",
     "shell.execute_reply": "2023-09-02T12:10:56.413659Z"
    },
    "trusted": true
   },
   "execution_count": null,
   "outputs": []
  },
  {
   "cell_type": "markdown",
   "source": [
    "\\begin{bmatrix}\n",
    "0.37989451 & 0.34049415 & 0.27580451 & 0.32970506 & 0.32970506 & 1. \\\\\n",
    "0.64203932 & 0.16648815 & 0.13584646 & 0.60246378 & 0.15830603 & 0.29051442 \\\\\n",
    "0.17058609 & 0.59438211 & 0.45106497 & 0.59938732 & 0.21845412 & 0.35465831 \\\\\n",
    "0.52640233 & 0.2159947 & 0.74144242 & 0.62224665 & 0.65254985 & 0.32970506 \\\\\n",
    "0.30274867 & 0.59536583 & 0.6832603 & 0.32970506 & 0.32970506 & 0.32970506 \\\\\n",
    "0.32970506 & 0.32970506 & 0.32970506 & 0.06460176 & 0.16495207 & 0.46397446 \\\\\n",
    "0.32970506 & 0.40771326 & 0.35774217 & 0.56552711 & 0.93767304 & 0.03145106 \\\\\n",
    "0.32970506 & 0.15244143 & 0.68400311 & 0.61278208 & 0.22240525 & 0.12966975 \\\\\n",
    "\\vdots & \\vdots & \\vdots & \\vdots & \\vdots & \\vdots \\\\\n",
    "0.19486555 & 0.53028717 & 0.32970506 & 0.00854643 & 0.25302326 & 0.32970506 \\\\\n",
    "0.16775086 & 0.68323489 & 0.32970506 & 0.32970506 & 0.44932967 & 0.53175956 \\\\\n",
    "0.32970506 & 0.83259069 & 0.32970506 & 0.67791332 & 0.32970506 & 0.08794601 \\\\\n",
    "0.32970506 & 0.53408345 & 0.14841566 & 0.21183881 & 0.32970506 & 0.35468924 \\\\\n",
    "0.90626507 & 0.53028717 & 0.21393862 & 0.25942842 & 0.32970506 & 0.17153925 \\\\\n",
    "0.53032476 & 0.24661407 & 0.3680497 & 0.33339727 & 0.08077612 & 0.10862351 \\\\\n",
    "0.32970506 & 0.32970506 & 0.53028717 & 0.32445369 & 0.32970506 & 0.53028717\n",
    "\\end{bmatrix}\n"
   ],
   "metadata": {}
  },
  {
   "cell_type": "code",
   "source": [
    "recommender_products_to_users = {}\n",
    "for i in merged_df['CustomerID'].unique():\n",
    "    recommender_products_to_users[i] = user_item_collaborative_filtering(i,5)"
   ],
   "metadata": {
    "execution": {
     "iopub.status.busy": "2023-09-02T12:10:56.417905Z",
     "iopub.execute_input": "2023-09-02T12:10:56.418775Z",
     "iopub.status.idle": "2023-09-02T12:12:29.040599Z",
     "shell.execute_reply.started": "2023-09-02T12:10:56.418712Z",
     "shell.execute_reply": "2023-09-02T12:12:29.039071Z"
    },
    "trusted": true
   },
   "execution_count": null,
   "outputs": []
  },
  {
   "cell_type": "code",
   "source": [
    "data = {'CustomerID': [], 'RecommendedProducts': []}\n",
    "\n",
    "\n",
    "for customer_id, recommended_products in recommender_products_to_users.items():\n",
    "    data['CustomerID'].append(customer_id)\n",
    "    data['RecommendedProducts'].append(recommended_products)\n",
    "\n",
    "recommender_products_to_users_df = pd.DataFrame(data)"
   ],
   "metadata": {
    "execution": {
     "iopub.status.busy": "2023-09-02T12:12:29.042744Z",
     "iopub.execute_input": "2023-09-02T12:12:29.043199Z",
     "iopub.status.idle": "2023-09-02T12:12:29.074982Z",
     "shell.execute_reply.started": "2023-09-02T12:12:29.043156Z",
     "shell.execute_reply": "2023-09-02T12:12:29.073417Z"
    },
    "trusted": true
   },
   "execution_count": null,
   "outputs": []
  },
  {
   "cell_type": "code",
   "source": [
    "customer_products_df = {'CustomerID': [], 'ProductID': []}\n",
    "customer_ids = merged_df['CustomerID'].unique()\n",
    "\n",
    "for customer_id in customer_ids:\n",
    "    products = merged_df.loc[merged_df['CustomerID'] == customer_id, 'ProductID'].values.tolist()\n",
    "    customer_products_df['CustomerID'].append(customer_id)\n",
    "    customer_products_df['ProductID'].append(products)\n",
    "\n",
    "customer_products_df = pd.DataFrame(customer_products_df)"
   ],
   "metadata": {
    "execution": {
     "iopub.status.busy": "2023-09-02T12:21:22.650833Z",
     "iopub.execute_input": "2023-09-02T12:21:22.651331Z",
     "iopub.status.idle": "2023-09-02T12:21:22.794678Z",
     "shell.execute_reply.started": "2023-09-02T12:21:22.651286Z",
     "shell.execute_reply": "2023-09-02T12:21:22.793383Z"
    },
    "trusted": true
   },
   "execution_count": null,
   "outputs": []
  },
  {
   "cell_type": "code",
   "source": [
    "recommender_products_to_users_df = recommender_products_to_users_df.sort_values(by='CustomerID')\n",
    "filtered_df_grouped = filtered_df.groupby('CustomerID')['ProductID'].apply(list).reset_index()"
   ],
   "metadata": {
    "execution": {
     "iopub.status.busy": "2023-09-02T12:21:55.514947Z",
     "iopub.execute_input": "2023-09-02T12:21:55.515478Z",
     "iopub.status.idle": "2023-09-02T12:21:55.545885Z",
     "shell.execute_reply.started": "2023-09-02T12:21:55.515443Z",
     "shell.execute_reply": "2023-09-02T12:21:55.544089Z"
    },
    "trusted": true
   },
   "execution_count": null,
   "outputs": []
  },
  {
   "cell_type": "code",
   "source": [
    "customer_products_df.head()"
   ],
   "metadata": {
    "execution": {
     "iopub.status.busy": "2023-09-02T12:21:56.886740Z",
     "iopub.execute_input": "2023-09-02T12:21:56.887165Z",
     "iopub.status.idle": "2023-09-02T12:21:56.907494Z",
     "shell.execute_reply.started": "2023-09-02T12:21:56.887134Z",
     "shell.execute_reply": "2023-09-02T12:21:56.906136Z"
    },
    "trusted": true
   },
   "execution_count": null,
   "outputs": []
  },
  {
   "cell_type": "code",
   "source": [
    "recommender_products_to_users_df.head()"
   ],
   "metadata": {
    "execution": {
     "iopub.status.busy": "2023-09-02T12:21:57.074417Z",
     "iopub.execute_input": "2023-09-02T12:21:57.074852Z",
     "iopub.status.idle": "2023-09-02T12:21:57.088697Z",
     "shell.execute_reply.started": "2023-09-02T12:21:57.074820Z",
     "shell.execute_reply": "2023-09-02T12:21:57.087639Z"
    },
    "trusted": true
   },
   "execution_count": null,
   "outputs": []
  },
  {
   "cell_type": "code",
   "source": [
    "filtered_df_grouped.head()"
   ],
   "metadata": {
    "execution": {
     "iopub.status.busy": "2023-09-02T12:21:57.567246Z",
     "iopub.execute_input": "2023-09-02T12:21:57.567929Z",
     "iopub.status.idle": "2023-09-02T12:21:57.584823Z",
     "shell.execute_reply.started": "2023-09-02T12:21:57.567876Z",
     "shell.execute_reply": "2023-09-02T12:21:57.583537Z"
    },
    "trusted": true
   },
   "execution_count": null,
   "outputs": []
  },
  {
   "cell_type": "code",
   "source": [
    "merged_products = pd.merge(filtered_df_grouped, recommender_products_to_users_df, on='CustomerID')\n",
    "result_df = merged_products[['CustomerID','ProductID', 'RecommendedProducts']]"
   ],
   "metadata": {
    "execution": {
     "iopub.status.busy": "2023-09-02T12:21:57.991756Z",
     "iopub.execute_input": "2023-09-02T12:21:57.992538Z",
     "iopub.status.idle": "2023-09-02T12:21:58.003939Z",
     "shell.execute_reply.started": "2023-09-02T12:21:57.992489Z",
     "shell.execute_reply": "2023-09-02T12:21:58.002307Z"
    },
    "trusted": true
   },
   "execution_count": null,
   "outputs": []
  },
  {
   "cell_type": "code",
   "source": [
    "result_analysis_df = pd.merge(result_df, rfm_segmentation, on='CustomerID', how='left', suffixes=('', '_rfm'))"
   ],
   "metadata": {
    "execution": {
     "iopub.status.busy": "2023-09-02T12:21:58.230171Z",
     "iopub.execute_input": "2023-09-02T12:21:58.230677Z",
     "iopub.status.idle": "2023-09-02T12:21:58.241842Z",
     "shell.execute_reply.started": "2023-09-02T12:21:58.230643Z",
     "shell.execute_reply": "2023-09-02T12:21:58.239975Z"
    },
    "trusted": true
   },
   "execution_count": null,
   "outputs": []
  },
  {
   "cell_type": "code",
   "source": [
    "result_analysis_df.drop([\"Frequency\",\"Recency\",\"Monetary\"], axis = 1, inplace = True)"
   ],
   "metadata": {
    "execution": {
     "iopub.status.busy": "2023-09-02T12:21:58.483674Z",
     "iopub.execute_input": "2023-09-02T12:21:58.484188Z",
     "iopub.status.idle": "2023-09-02T12:21:58.493812Z",
     "shell.execute_reply.started": "2023-09-02T12:21:58.484150Z",
     "shell.execute_reply": "2023-09-02T12:21:58.492117Z"
    },
    "trusted": true
   },
   "execution_count": null,
   "outputs": []
  },
  {
   "cell_type": "code",
   "source": [
    "result_analysis_df.head()"
   ],
   "metadata": {
    "execution": {
     "iopub.status.busy": "2023-09-02T12:21:58.639020Z",
     "iopub.execute_input": "2023-09-02T12:21:58.639533Z",
     "iopub.status.idle": "2023-09-02T12:21:58.659541Z",
     "shell.execute_reply.started": "2023-09-02T12:21:58.639494Z",
     "shell.execute_reply": "2023-09-02T12:21:58.658168Z"
    },
    "trusted": true
   },
   "execution_count": null,
   "outputs": []
  },
  {
   "cell_type": "code",
   "source": [
    "clusters_products_popularity_dict = {}\n",
    "for m in range(len(list(result_analysis_df.cluster.unique()))):\n",
    "    products_popularity_dict = {}\n",
    "    for i in range(len(list(set(filtered_df['ProductID'])))):\n",
    "        products_popularity_dict[list(set(filtered_df['ProductID']))[i]] = 0\n",
    "    cluster_analysis = result_analysis_df[result_analysis_df['cluster']==m]\n",
    "    for j in cluster_analysis['CustomerID'].unique():\n",
    "        temp = list(cluster_analysis[cluster_analysis['CustomerID']==j]['ProductID'])[0]\n",
    "        for k in temp:\n",
    "            if k in products_popularity_dict.keys():\n",
    "                purchased_products = products_popularity_dict[k]\n",
    "                purchased_products += 1\n",
    "                products_popularity_dict[k] = purchased_products\n",
    "    clusters_products_popularity_dict[m] = products_popularity_dict"
   ],
   "metadata": {
    "execution": {
     "iopub.status.busy": "2023-09-02T12:21:59.174688Z",
     "iopub.execute_input": "2023-09-02T12:21:59.176134Z",
     "iopub.status.idle": "2023-09-02T12:22:14.185709Z",
     "shell.execute_reply.started": "2023-09-02T12:21:59.176076Z",
     "shell.execute_reply": "2023-09-02T12:22:14.184073Z"
    },
    "trusted": true
   },
   "execution_count": null,
   "outputs": []
  },
  {
   "cell_type": "code",
   "source": [
    "sorted_clusters_products_popularity_dict = {}\n",
    "for i in range(len(list(result_analysis_df.cluster.unique()))):\n",
    "    sorted_clusters_products_popularity_dict[i] = sorted(clusters_products_popularity_dict[i], key=clusters_products_popularity_dict[i].get, reverse=True)"
   ],
   "metadata": {
    "execution": {
     "iopub.status.busy": "2023-09-02T12:22:14.189399Z",
     "iopub.execute_input": "2023-09-02T12:22:14.190059Z",
     "iopub.status.idle": "2023-09-02T12:22:14.198026Z",
     "shell.execute_reply.started": "2023-09-02T12:22:14.190022Z",
     "shell.execute_reply": "2023-09-02T12:22:14.196797Z"
    },
    "trusted": true
   },
   "execution_count": null,
   "outputs": []
  },
  {
   "cell_type": "code",
   "source": [
    "# segmentlerin en fazla aldığı ürünler\n",
    "for i in range(len(list(result_analysis_df.cluster.unique()))):\n",
    "    print(sorted_clusters_products_popularity_dict[i][:10])"
   ],
   "metadata": {
    "execution": {
     "iopub.status.busy": "2023-09-02T12:22:14.199789Z",
     "iopub.execute_input": "2023-09-02T12:22:14.200186Z",
     "iopub.status.idle": "2023-09-02T12:22:14.221229Z",
     "shell.execute_reply.started": "2023-09-02T12:22:14.200152Z",
     "shell.execute_reply": "2023-09-02T12:22:14.220007Z"
    },
    "trusted": true
   },
   "execution_count": null,
   "outputs": []
  },
  {
   "cell_type": "code",
   "source": [
    "# segmentlerin en fazla aldığı ürünlerin sayısı\n",
    "for i in range(len(list(result_analysis_df.cluster.unique()))):\n",
    "    most_products = sorted(list(clusters_products_popularity_dict[i].values()), reverse=True)\n",
    "    print(most_products[:15])"
   ],
   "metadata": {
    "execution": {
     "iopub.status.busy": "2023-09-02T12:22:14.224643Z",
     "iopub.execute_input": "2023-09-02T12:22:14.225050Z",
     "iopub.status.idle": "2023-09-02T12:22:14.236429Z",
     "shell.execute_reply.started": "2023-09-02T12:22:14.225019Z",
     "shell.execute_reply": "2023-09-02T12:22:14.235153Z"
    },
    "trusted": true
   },
   "execution_count": null,
   "outputs": []
  },
  {
   "cell_type": "code",
   "source": [
    "products_popularity_dict = {}\n",
    "for i in range(len(list(set(filtered_df['ProductID'])))):\n",
    "    products_popularity_dict[list(set(filtered_df['ProductID']))[i]] = 0"
   ],
   "metadata": {
    "execution": {
     "iopub.status.busy": "2023-09-02T12:22:14.240003Z",
     "iopub.execute_input": "2023-09-02T12:22:14.240460Z",
     "iopub.status.idle": "2023-09-02T12:22:16.366934Z",
     "shell.execute_reply.started": "2023-09-02T12:22:14.240426Z",
     "shell.execute_reply": "2023-09-02T12:22:16.365841Z"
    },
    "trusted": true
   },
   "execution_count": null,
   "outputs": []
  },
  {
   "cell_type": "code",
   "source": [
    "def check_recommended_products(df):\n",
    "    almis = 0\n",
    "    almamis = 0\n",
    "    for index, row in df.iterrows():\n",
    "        customer_id = row['CustomerID']\n",
    "        recommended_products = row['RecommendedProducts']\n",
    "        product_id = row['ProductID']\n",
    "        for recommended_product in recommended_products:\n",
    "            if recommended_product not in product_id:\n",
    "                #print(f\"CustomerID {customer_id} did not buy Recommended ProductID {recommended_product} \")\n",
    "                almamis += 1\n",
    "            else:\n",
    "                print(f\"CustomerID {customer_id} bought Recommended ProductID {recommended_product}\")\n",
    "                almis += 1\n",
    "    print(f\"Tasarlanan sistemde tavsiye edilen ürünlerden, müşteriler {almamis} tanesini almamış, {almis} tanesini almıştır.\")\n",
    "    "
   ],
   "metadata": {
    "execution": {
     "iopub.status.busy": "2023-09-02T12:22:16.368331Z",
     "iopub.execute_input": "2023-09-02T12:22:16.368674Z",
     "iopub.status.idle": "2023-09-02T12:22:16.376506Z",
     "shell.execute_reply.started": "2023-09-02T12:22:16.368643Z",
     "shell.execute_reply": "2023-09-02T12:22:16.375650Z"
    },
    "trusted": true
   },
   "execution_count": null,
   "outputs": []
  },
  {
   "cell_type": "code",
   "source": [
    "check_recommended_products(result_df)"
   ],
   "metadata": {
    "execution": {
     "iopub.status.busy": "2023-09-02T12:22:16.377950Z",
     "iopub.execute_input": "2023-09-02T12:22:16.378250Z",
     "iopub.status.idle": "2023-09-02T12:22:16.410776Z",
     "shell.execute_reply.started": "2023-09-02T12:22:16.378224Z",
     "shell.execute_reply": "2023-09-02T12:22:16.408716Z"
    },
    "trusted": true
   },
   "execution_count": null,
   "outputs": []
  },
  {
   "cell_type": "code",
   "source": [
    "result_data= []\n",
    "for i in filtered_df_grouped['CustomerID']:\n",
    "    if i in recommender_products_to_users_df['CustomerID']:\n",
    "        customer_recommendations = recommender_products_to_users_df[recommender_products_to_users_df['CustomerID'] == i]['RecommendedProducts']\n",
    "        customer_purchases = filtered_df_grouped[filtered_df_grouped['CustomerID'] == i]['ProductID']\n",
    "        customer_purchases = customer_purchases.apply(set)\n",
    "        customer_recommendations = customer_recommendations.apply(set)\n",
    "        \n",
    "        TP = len(customer_recommendations + customer_purchases)\n",
    "        FP = len(customer_purchases - customer_recommendations)\n",
    "        FN = len(customer_recommendations - customer_purchases)\n",
    "\n",
    "        precision = TP / (TP + FP)\n",
    "        recall = TP / (TP + FN)\n",
    "        fallout = 0 if (FP == 0) else FP / (FP + len(customer_purchases))\n",
    "        miss_rate = FN / (FN + TP)\n",
    "        f1_score = 2 * (precision * recall) / (precision + recall)\n",
    "\n",
    "        result_data.append([i, precision, recall, fallout, miss_rate, f1_score])\n",
    "\n",
    "metrics_df = pd.DataFrame(result_data, columns=['CustomerID', 'Precision', 'Recall', 'Fallout', 'Miss Rate', 'F1 Score'])"
   ],
   "metadata": {
    "execution": {
     "iopub.status.busy": "2023-09-02T12:22:16.414723Z",
     "iopub.execute_input": "2023-09-02T12:22:16.415104Z",
     "iopub.status.idle": "2023-09-02T12:22:17.146246Z",
     "shell.execute_reply.started": "2023-09-02T12:22:16.415072Z",
     "shell.execute_reply": "2023-09-02T12:22:17.144923Z"
    },
    "trusted": true
   },
   "execution_count": null,
   "outputs": []
  },
  {
   "cell_type": "code",
   "source": [
    "metrics_df.drop(columns = ['CustomerID']).mean()"
   ],
   "metadata": {
    "execution": {
     "iopub.status.busy": "2023-09-02T12:22:17.148009Z",
     "iopub.execute_input": "2023-09-02T12:22:17.148510Z",
     "iopub.status.idle": "2023-09-02T12:22:17.160102Z",
     "shell.execute_reply.started": "2023-09-02T12:22:17.148467Z",
     "shell.execute_reply": "2023-09-02T12:22:17.158959Z"
    },
    "trusted": true
   },
   "execution_count": null,
   "outputs": []
  },
  {
   "cell_type": "markdown",
   "source": [
    "<a id=\"section-five\"></a>\n",
    "# [Hybrid Recommender System](#headers)"
   ],
   "metadata": {}
  },
  {
   "cell_type": "code",
   "source": [
    "!pip install lifetimes\n",
    "from lifetimes import BetaGeoFitter\n",
    "from scipy.optimize import minimize\n",
    "from lifetimes import GammaGammaFitter\n",
    "from mlxtend.preprocessing import TransactionEncoder\n",
    "from mlxtend.frequent_patterns import apriori, association_rules"
   ],
   "metadata": {
    "execution": {
     "iopub.status.busy": "2023-09-02T12:36:44.305423Z",
     "iopub.execute_input": "2023-09-02T12:36:44.305990Z",
     "iopub.status.idle": "2023-09-02T12:36:58.994841Z",
     "shell.execute_reply.started": "2023-09-02T12:36:44.305954Z",
     "shell.execute_reply": "2023-09-02T12:36:58.993209Z"
    },
    "trusted": true
   },
   "execution_count": null,
   "outputs": []
  },
  {
   "cell_type": "code",
   "source": [
    "merged_df = pd.merge(df, rfm_segmentation, on='CustomerID', how='inner')"
   ],
   "metadata": {
    "execution": {
     "iopub.status.busy": "2023-09-02T12:28:50.016393Z",
     "iopub.execute_input": "2023-09-02T12:28:50.017003Z",
     "iopub.status.idle": "2023-09-02T12:28:50.031580Z",
     "shell.execute_reply.started": "2023-09-02T12:28:50.016958Z",
     "shell.execute_reply": "2023-09-02T12:28:50.030246Z"
    },
    "trusted": true
   },
   "execution_count": null,
   "outputs": []
  },
  {
   "cell_type": "code",
   "source": [
    "test_df = filtered_df.copy()"
   ],
   "metadata": {
    "execution": {
     "iopub.status.busy": "2023-09-02T12:30:11.713915Z",
     "iopub.execute_input": "2023-09-02T12:30:11.714318Z",
     "iopub.status.idle": "2023-09-02T12:30:11.720532Z",
     "shell.execute_reply.started": "2023-09-02T12:30:11.714284Z",
     "shell.execute_reply": "2023-09-02T12:30:11.719056Z"
    },
    "trusted": true
   },
   "execution_count": null,
   "outputs": []
  },
  {
   "cell_type": "code",
   "source": [
    "merged_df.head()"
   ],
   "metadata": {
    "execution": {
     "iopub.status.busy": "2023-09-02T12:28:56.024178Z",
     "iopub.execute_input": "2023-09-02T12:28:56.024720Z",
     "iopub.status.idle": "2023-09-02T12:28:56.046058Z",
     "shell.execute_reply.started": "2023-09-02T12:28:56.024680Z",
     "shell.execute_reply": "2023-09-02T12:28:56.044205Z"
    },
    "trusted": true
   },
   "execution_count": null,
   "outputs": []
  },
  {
   "cell_type": "code",
   "source": [
    "rfm_df = rfm.copy()"
   ],
   "metadata": {
    "execution": {
     "iopub.status.busy": "2023-09-02T12:29:20.858529Z",
     "iopub.execute_input": "2023-09-02T12:29:20.859009Z",
     "iopub.status.idle": "2023-09-02T12:29:20.865893Z",
     "shell.execute_reply.started": "2023-09-02T12:29:20.858973Z",
     "shell.execute_reply": "2023-09-02T12:29:20.864475Z"
    },
    "trusted": true
   },
   "execution_count": null,
   "outputs": []
  },
  {
   "cell_type": "code",
   "source": [
    "merged_df['Date'] = pd.to_datetime(merged_df['Date'])"
   ],
   "metadata": {
    "execution": {
     "iopub.status.busy": "2023-09-02T12:29:34.467541Z",
     "iopub.execute_input": "2023-09-02T12:29:34.467948Z",
     "iopub.status.idle": "2023-09-02T12:29:34.495672Z",
     "shell.execute_reply.started": "2023-09-02T12:29:34.467919Z",
     "shell.execute_reply": "2023-09-02T12:29:34.494101Z"
    },
    "trusted": true
   },
   "execution_count": null,
   "outputs": []
  },
  {
   "cell_type": "code",
   "source": [
    "merged_df['T'] = (merged_df['Date'].max() - merged_df['Date']).dt.days"
   ],
   "metadata": {
    "execution": {
     "iopub.status.busy": "2023-09-02T12:29:41.413816Z",
     "iopub.execute_input": "2023-09-02T12:29:41.414409Z",
     "iopub.status.idle": "2023-09-02T12:29:41.425514Z",
     "shell.execute_reply.started": "2023-09-02T12:29:41.414362Z",
     "shell.execute_reply": "2023-09-02T12:29:41.424397Z"
    },
    "trusted": true
   },
   "execution_count": null,
   "outputs": []
  },
  {
   "cell_type": "code",
   "source": [
    "merged_df.drop(merged_df[merged_df['Recency'] > merged_df['T']].index, inplace=True)"
   ],
   "metadata": {
    "execution": {
     "iopub.status.busy": "2023-09-02T12:29:46.350108Z",
     "iopub.execute_input": "2023-09-02T12:29:46.350691Z",
     "iopub.status.idle": "2023-09-02T12:29:46.363446Z",
     "shell.execute_reply.started": "2023-09-02T12:29:46.350653Z",
     "shell.execute_reply": "2023-09-02T12:29:46.362052Z"
    },
    "trusted": true
   },
   "execution_count": null,
   "outputs": []
  },
  {
   "cell_type": "code",
   "source": [
    "test_df['Date'] = pd.to_datetime(test_df['Date'])"
   ],
   "metadata": {
    "execution": {
     "iopub.status.busy": "2023-09-02T12:30:19.973487Z",
     "iopub.execute_input": "2023-09-02T12:30:19.973873Z",
     "iopub.status.idle": "2023-09-02T12:30:19.997112Z",
     "shell.execute_reply.started": "2023-09-02T12:30:19.973844Z",
     "shell.execute_reply": "2023-09-02T12:30:19.995836Z"
    },
    "trusted": true
   },
   "execution_count": null,
   "outputs": []
  },
  {
   "cell_type": "code",
   "source": [
    "date_difference  = (test_df['Date'].max()-merged_df['Date'].max()).days"
   ],
   "metadata": {
    "execution": {
     "iopub.status.busy": "2023-09-02T12:30:23.610533Z",
     "iopub.execute_input": "2023-09-02T12:30:23.610940Z",
     "iopub.status.idle": "2023-09-02T12:30:23.619630Z",
     "shell.execute_reply.started": "2023-09-02T12:30:23.610911Z",
     "shell.execute_reply": "2023-09-02T12:30:23.617795Z"
    },
    "trusted": true
   },
   "execution_count": null,
   "outputs": []
  },
  {
   "cell_type": "markdown",
   "source": [
    "$$ f(t | r, α, β) = \\frac{\\Gamma(r+t)}{\\Gamma(r)\\Gamma(t+1)}\\frac{α^rβ^t}{(α+β)^{r+t}}\n",
    "  $$"
   ],
   "metadata": {}
  },
  {
   "cell_type": "markdown",
   "source": [
    "$$ P(X = x | λ, r) = \\binom{x + r - 1}{x} \\left(\\frac{λ}{λ+r}\\right)^x \\left(\\frac{r}{λ+r}\\right)^r\n",
    " $$"
   ],
   "metadata": {}
  },
  {
   "cell_type": "code",
   "source": [
    "bgf = BetaGeoFitter(penalizer_coef=0.8)\n",
    "bgf.fit(merged_df[\"Frequency\"], merged_df[\"Recency\"],merged_df['T'] ,merged_df[\"Monetary\"])"
   ],
   "metadata": {
    "execution": {
     "iopub.status.busy": "2023-09-02T12:31:52.301871Z",
     "iopub.execute_input": "2023-09-02T12:31:52.303216Z",
     "iopub.status.idle": "2023-09-02T12:31:52.956037Z",
     "shell.execute_reply.started": "2023-09-02T12:31:52.303174Z",
     "shell.execute_reply": "2023-09-02T12:31:52.954733Z"
    },
    "trusted": true
   },
   "execution_count": null,
   "outputs": []
  },
  {
   "cell_type": "code",
   "source": [
    "gün = date_difference \n",
    "predicted_purchases = bgf.predict(gün, merged_df[\"Frequency\"], merged_df[\"Recency\"], merged_df[\"Monetary\"])\n",
    "predicted_df = pd.DataFrame({\"PredictedPurchases\": predicted_purchases}, index=merged_df.index)\n",
    "predicted_df[\"CustomerID\"] = merged_df[\"CustomerID\"]"
   ],
   "metadata": {
    "execution": {
     "iopub.status.busy": "2023-09-02T12:31:52.958736Z",
     "iopub.execute_input": "2023-09-02T12:31:52.959852Z",
     "iopub.status.idle": "2023-09-02T12:31:53.009887Z",
     "shell.execute_reply.started": "2023-09-02T12:31:52.959803Z",
     "shell.execute_reply": "2023-09-02T12:31:53.008083Z"
    },
    "trusted": true
   },
   "execution_count": null,
   "outputs": []
  },
  {
   "cell_type": "code",
   "source": [
    "merge_predicted_df = pd.DataFrame({'PredictedPurchases': predicted_df['PredictedPurchases'], 'CustomerID': merged_df['CustomerID'], 'ProductID': merged_df['ProductID']})\n",
    "merge_predicted_df = merge_predicted_df.sort_values(by='PredictedPurchases', ascending=True)\n"
   ],
   "metadata": {
    "execution": {
     "iopub.status.busy": "2023-09-02T12:31:53.012102Z",
     "iopub.execute_input": "2023-09-02T12:31:53.012888Z",
     "iopub.status.idle": "2023-09-02T12:31:53.027755Z",
     "shell.execute_reply.started": "2023-09-02T12:31:53.012844Z",
     "shell.execute_reply": "2023-09-02T12:31:53.025781Z"
    },
    "trusted": true
   },
   "execution_count": null,
   "outputs": []
  },
  {
   "cell_type": "code",
   "source": [
    "test_df_grouped = test_df.groupby('CustomerID')['ProductID'].apply(list).reset_index()"
   ],
   "metadata": {
    "execution": {
     "iopub.status.busy": "2023-09-02T12:32:59.135755Z",
     "iopub.execute_input": "2023-09-02T12:32:59.136384Z",
     "iopub.status.idle": "2023-09-02T12:32:59.167714Z",
     "shell.execute_reply.started": "2023-09-02T12:32:59.136339Z",
     "shell.execute_reply": "2023-09-02T12:32:59.166149Z"
    },
    "trusted": true
   },
   "execution_count": null,
   "outputs": []
  },
  {
   "cell_type": "code",
   "source": [
    "merge_predicted_df_grouped = merge_predicted_df.groupby('CustomerID')['ProductID'].apply(list).reset_index()"
   ],
   "metadata": {
    "execution": {
     "iopub.status.busy": "2023-09-02T12:32:59.491921Z",
     "iopub.execute_input": "2023-09-02T12:32:59.492342Z",
     "iopub.status.idle": "2023-09-02T12:32:59.519882Z",
     "shell.execute_reply.started": "2023-09-02T12:32:59.492310Z",
     "shell.execute_reply": "2023-09-02T12:32:59.518491Z"
    },
    "trusted": true
   },
   "execution_count": null,
   "outputs": []
  },
  {
   "cell_type": "code",
   "source": [
    "merge_predicted_df_grouped['ProductID'] = merge_predicted_df_grouped['ProductID'].apply(lambda x: list(set(x)))"
   ],
   "metadata": {
    "execution": {
     "iopub.status.busy": "2023-09-02T12:32:59.882563Z",
     "iopub.execute_input": "2023-09-02T12:32:59.883054Z",
     "iopub.status.idle": "2023-09-02T12:32:59.893981Z",
     "shell.execute_reply.started": "2023-09-02T12:32:59.883021Z",
     "shell.execute_reply": "2023-09-02T12:32:59.892368Z"
    },
    "trusted": true
   },
   "execution_count": null,
   "outputs": []
  },
  {
   "cell_type": "code",
   "source": [
    "merge_predicted_df_grouped[merge_predicted_df_grouped['CustomerID'] == 321]"
   ],
   "metadata": {
    "execution": {
     "iopub.status.busy": "2023-09-02T12:33:00.267159Z",
     "iopub.execute_input": "2023-09-02T12:33:00.267679Z",
     "iopub.status.idle": "2023-09-02T12:33:00.284287Z",
     "shell.execute_reply.started": "2023-09-02T12:33:00.267644Z",
     "shell.execute_reply": "2023-09-02T12:33:00.282726Z"
    },
    "trusted": true
   },
   "execution_count": null,
   "outputs": []
  },
  {
   "cell_type": "code",
   "source": [
    "test_df_grouped[test_df_grouped['CustomerID'] == 321]"
   ],
   "metadata": {
    "execution": {
     "iopub.status.busy": "2023-09-02T12:33:00.606184Z",
     "iopub.execute_input": "2023-09-02T12:33:00.606677Z",
     "iopub.status.idle": "2023-09-02T12:33:00.621513Z",
     "shell.execute_reply.started": "2023-09-02T12:33:00.606636Z",
     "shell.execute_reply": "2023-09-02T12:33:00.619853Z"
    },
    "trusted": true
   },
   "execution_count": null,
   "outputs": []
  },
  {
   "cell_type": "code",
   "source": [
    "pd.DataFrame(merge_predicted_df.sort_values(by=['PredictedPurchases'])).tail(6)"
   ],
   "metadata": {
    "execution": {
     "iopub.status.busy": "2023-09-02T12:33:08.784927Z",
     "iopub.execute_input": "2023-09-02T12:33:08.785428Z",
     "iopub.status.idle": "2023-09-02T12:33:08.802924Z",
     "shell.execute_reply.started": "2023-09-02T12:33:08.785391Z",
     "shell.execute_reply": "2023-09-02T12:33:08.801438Z"
    },
    "trusted": true
   },
   "execution_count": null,
   "outputs": []
  },
  {
   "cell_type": "code",
   "source": [
    "break_b = 0\n",
    "break_a =10\n",
    "for i in merge_predicted_df_grouped['CustomerID'].unique():\n",
    "    if i in test_df_grouped['CustomerID'].unique():\n",
    "        for j in set(list(test_df_grouped[test_df_grouped['CustomerID'] == i]['ProductID'])[0]):\n",
    "            if j in set(list(merge_predicted_df_grouped[merge_predicted_df_grouped['CustomerID']==i]['ProductID'])[0]):    \n",
    "                if list(set(merge_predicted_df[(merge_predicted_df['CustomerID']==i) & (merge_predicted_df['ProductID']==j)]['PredictedPurchases']))[0] < 0.01:\n",
    "                    print(i,\" CustomerID'li müşteri \", j, ' ürününü ', list(set(merge_predicted_df[(merge_predicted_df['CustomerID']==i) & (merge_predicted_df['ProductID']==j)]['PredictedPurchases']))[0],' olasılığıyla almıştır.')\n",
    "                    break_b += 1\n",
    "                    if break_b == break_a:\n",
    "                        break\n",
    "    if break_b == break_a:\n",
    "        break"
   ],
   "metadata": {
    "execution": {
     "iopub.status.busy": "2023-09-02T12:33:28.430539Z",
     "iopub.execute_input": "2023-09-02T12:33:28.431111Z",
     "iopub.status.idle": "2023-09-02T12:33:28.498458Z",
     "shell.execute_reply.started": "2023-09-02T12:33:28.431066Z",
     "shell.execute_reply": "2023-09-02T12:33:28.497105Z"
    },
    "trusted": true
   },
   "execution_count": null,
   "outputs": []
  },
  {
   "cell_type": "code",
   "source": [
    "customer_ids = []\n",
    "actual_purchases = []\n",
    "probs = []\n",
    "\n",
    "for i in merge_predicted_df_grouped['CustomerID'].unique():\n",
    "    if i in test_df_grouped['CustomerID'].unique():\n",
    "        for j in set(list(test_df_grouped[test_df_grouped['CustomerID'] == i]['ProductID'])[0]):\n",
    "            if j in set(list(merge_predicted_df_grouped[merge_predicted_df_grouped['CustomerID']==i]['ProductID'])[0]):    \n",
    "                predicted_purchase = list(set(merge_predicted_df[(merge_predicted_df['CustomerID']==i) & (merge_predicted_df['ProductID']==j)]['PredictedPurchases']))[0]\n",
    "                customer_ids.append(i)\n",
    "                actual_purchases.append(j)\n",
    "                probs.append(predicted_purchase)"
   ],
   "metadata": {
    "execution": {
     "iopub.status.busy": "2023-09-02T12:34:06.883147Z",
     "iopub.execute_input": "2023-09-02T12:34:06.883599Z",
     "iopub.status.idle": "2023-09-02T12:34:10.623994Z",
     "shell.execute_reply.started": "2023-09-02T12:34:06.883569Z",
     "shell.execute_reply": "2023-09-02T12:34:10.622633Z"
    },
    "trusted": true
   },
   "execution_count": null,
   "outputs": []
  },
  {
   "cell_type": "code",
   "source": [
    "scaler = MinMaxScaler()\n",
    "product_counts = merged_df.groupby(['CustomerID', 'ProductID'])['Quantity'].sum().reset_index()\n",
    "product_counts.rename(columns={'Quantity': 'Ratings'}, inplace=True)\n",
    "\n",
    "\n",
    "ratings_df = product_counts[['CustomerID', 'ProductID', 'Ratings']]\n",
    "rats = []\n",
    "for i in range(len(actual_purchases)):\n",
    "    rats.append(int(ratings_df[(ratings_df['CustomerID'] == customer_ids[i]) & (ratings_df['ProductID'] == actual_purchases[i])]['Ratings']))\n",
    "rats = scaler.fit_transform(np.array(rats).reshape(-1,1)).flatten()\n"
   ],
   "metadata": {
    "execution": {
     "iopub.status.busy": "2023-09-02T12:34:10.626172Z",
     "iopub.execute_input": "2023-09-02T12:34:10.626590Z",
     "iopub.status.idle": "2023-09-02T12:34:11.715371Z",
     "shell.execute_reply.started": "2023-09-02T12:34:10.626553Z",
     "shell.execute_reply": "2023-09-02T12:34:11.714119Z"
    },
    "trusted": true
   },
   "execution_count": null,
   "outputs": []
  },
  {
   "cell_type": "code",
   "source": [
    "len(actual_purchases), len(probs) , len(customer_ids)"
   ],
   "metadata": {
    "execution": {
     "iopub.status.busy": "2023-09-02T12:34:14.542299Z",
     "iopub.execute_input": "2023-09-02T12:34:14.542779Z",
     "iopub.status.idle": "2023-09-02T12:34:14.553153Z",
     "shell.execute_reply.started": "2023-09-02T12:34:14.542743Z",
     "shell.execute_reply": "2023-09-02T12:34:14.551382Z"
    },
    "trusted": true
   },
   "execution_count": null,
   "outputs": []
  },
  {
   "cell_type": "code",
   "source": [
    "data = pd.DataFrame({'CustomerID': customer_ids, 'Satın Alınan Ürünler': actual_purchases})\n",
    "\n",
    "sns.set(style=\"whitegrid\")\n",
    "plt.figure(figsize=(12, 10)) \n",
    "sns.lineplot(x='CustomerID', y='Satın Alınan Ürünler', data=data[:100], marker='o')\n",
    "sns.lineplot(data=list(merge_predicted_df[merge_predicted_df['PredictedPurchases']>0]['ProductID'])[:47], marker='o')\n",
    "plt.scatter(x=40, y= 1750, color='orange')\n",
    "plt.text(41, 1730, 'Model tahmini', color='black', fontsize=12)\n",
    "plt.scatter(x=40, y= 1700, color='blue')\n",
    "plt.text(41, 1688, 'Test kümesi', color='black', fontsize=12)\n",
    "plt.title('Tahmin Edilen / Alınan Ürünler')\n",
    "plt.xlabel('CustomerID')\n",
    "plt.ylabel('ProductID')\n",
    "\n",
    "plt.show()"
   ],
   "metadata": {
    "execution": {
     "iopub.status.busy": "2023-09-02T12:34:21.886196Z",
     "iopub.execute_input": "2023-09-02T12:34:21.886636Z",
     "iopub.status.idle": "2023-09-02T12:34:22.911881Z",
     "shell.execute_reply.started": "2023-09-02T12:34:21.886603Z",
     "shell.execute_reply": "2023-09-02T12:34:22.910572Z"
    },
    "trusted": true
   },
   "execution_count": null,
   "outputs": []
  },
  {
   "cell_type": "code",
   "source": [
    "FP = 0\n",
    "TP = 0\n",
    "FN = 0\n",
    "TN = 0\n",
    "for i in merge_predicted_df['ProductID'].unique():\n",
    "    if i not in test_df['ProductID'].unique():\n",
    "        FP += 1\n",
    "    if i in test_df['ProductID'].unique():\n",
    "        TP += 1\n",
    "for i in test_df['ProductID'].unique():\n",
    "    if i not in merge_predicted_df['ProductID'].unique():\n",
    "        FN += 1\n",
    "    if i in merge_predicted_df['ProductID'].unique():\n",
    "        TN += 1"
   ],
   "metadata": {
    "execution": {
     "iopub.status.busy": "2023-09-02T12:34:40.329088Z",
     "iopub.execute_input": "2023-09-02T12:34:40.329658Z",
     "iopub.status.idle": "2023-09-02T12:34:41.249542Z",
     "shell.execute_reply.started": "2023-09-02T12:34:40.329620Z",
     "shell.execute_reply": "2023-09-02T12:34:41.248076Z"
    },
    "trusted": true
   },
   "execution_count": null,
   "outputs": []
  },
  {
   "cell_type": "code",
   "source": [
    "accuracy, precision, recall, fallout, miss_rate, f1_score = calculate_metrics(TP, FP, FN, TN)\n",
    "\n",
    "print(\"Accuracy:\", accuracy)\n",
    "print(\"Precision:\", precision)\n",
    "print(\"Recall:\", recall)\n",
    "print(\"Fallout:\", fallout)\n",
    "print(\"Miss Rate:\", miss_rate)\n",
    "print(\"F1 Score:\", f1_score)\n"
   ],
   "metadata": {
    "execution": {
     "iopub.status.busy": "2023-09-02T12:34:41.251733Z",
     "iopub.execute_input": "2023-09-02T12:34:41.252126Z",
     "iopub.status.idle": "2023-09-02T12:34:41.260108Z",
     "shell.execute_reply.started": "2023-09-02T12:34:41.252094Z",
     "shell.execute_reply": "2023-09-02T12:34:41.258756Z"
    },
    "trusted": true
   },
   "execution_count": null,
   "outputs": []
  },
  {
   "cell_type": "code",
   "source": [
    "filtered_df = merged_df[merged_df['CustomerID'].isin(customer_ids) & merged_df['ProductID'].isin(actual_purchases)]"
   ],
   "metadata": {
    "execution": {
     "iopub.status.busy": "2023-09-02T12:35:04.407306Z",
     "iopub.execute_input": "2023-09-02T12:35:04.407810Z",
     "iopub.status.idle": "2023-09-02T12:35:04.421279Z",
     "shell.execute_reply.started": "2023-09-02T12:35:04.407773Z",
     "shell.execute_reply": "2023-09-02T12:35:04.419498Z"
    },
    "trusted": true
   },
   "execution_count": null,
   "outputs": []
  },
  {
   "cell_type": "code",
   "source": [
    "ggf = GammaGammaFitter(penalizer_coef = 0.8)\n",
    "ggf.fit(rfm_df['Frequency'], rfm_df['Monetary'])\n"
   ],
   "metadata": {
    "execution": {
     "iopub.status.busy": "2023-09-02T12:36:58.997542Z",
     "iopub.execute_input": "2023-09-02T12:36:58.997927Z",
     "iopub.status.idle": "2023-09-02T12:36:59.087084Z",
     "shell.execute_reply.started": "2023-09-02T12:36:58.997891Z",
     "shell.execute_reply": "2023-09-02T12:36:59.085339Z"
    },
    "trusted": true
   },
   "execution_count": null,
   "outputs": []
  },
  {
   "cell_type": "code",
   "source": [
    "expected_transaction_value = ggf.conditional_expected_average_profit(rfm_df[\"Frequency\"], rfm_df[\"Monetary\"])\n",
    "\n",
    "customer_lifespan = 12  \n",
    "\n",
    "clv = expected_transaction_value * customer_lifespan\n"
   ],
   "metadata": {
    "execution": {
     "iopub.status.busy": "2023-09-02T12:36:59.089458Z",
     "iopub.execute_input": "2023-09-02T12:36:59.090932Z",
     "iopub.status.idle": "2023-09-02T12:36:59.102646Z",
     "shell.execute_reply.started": "2023-09-02T12:36:59.090868Z",
     "shell.execute_reply": "2023-09-02T12:36:59.101068Z"
    },
    "trusted": true
   },
   "execution_count": null,
   "outputs": []
  },
  {
   "cell_type": "code",
   "source": [
    "clv_normalized = scaler.fit_transform(np.array(clv).reshape(-1,1))\n",
    "np.set_printoptions(precision=4, suppress=True)"
   ],
   "metadata": {
    "execution": {
     "iopub.status.busy": "2023-09-02T12:36:59.106839Z",
     "iopub.execute_input": "2023-09-02T12:36:59.107662Z",
     "iopub.status.idle": "2023-09-02T12:36:59.119621Z",
     "shell.execute_reply.started": "2023-09-02T12:36:59.107606Z",
     "shell.execute_reply": "2023-09-02T12:36:59.117969Z"
    },
    "trusted": true
   },
   "execution_count": null,
   "outputs": []
  },
  {
   "cell_type": "code",
   "source": [
    "np.sort(clv_normalized.flatten())[::-1][:10]"
   ],
   "metadata": {
    "execution": {
     "iopub.status.busy": "2023-09-02T12:36:59.122581Z",
     "iopub.execute_input": "2023-09-02T12:36:59.123849Z",
     "iopub.status.idle": "2023-09-02T12:36:59.139184Z",
     "shell.execute_reply.started": "2023-09-02T12:36:59.123777Z",
     "shell.execute_reply": "2023-09-02T12:36:59.136976Z"
    },
    "trusted": true
   },
   "execution_count": null,
   "outputs": []
  },
  {
   "cell_type": "code",
   "source": [
    "correlation_matrix = merged_df[['Frequency', 'Monetary']].corr()\n",
    "\n",
    "sns.heatmap(correlation_matrix, annot=True,  cmap = 'coolwarm',center=0)\n",
    "plt.title('Korelasyon Isı Haritası')\n",
    "plt.show()"
   ],
   "metadata": {
    "execution": {
     "iopub.status.busy": "2023-09-02T12:36:59.142521Z",
     "iopub.execute_input": "2023-09-02T12:36:59.144131Z",
     "iopub.status.idle": "2023-09-02T12:36:59.527865Z",
     "shell.execute_reply.started": "2023-09-02T12:36:59.144050Z",
     "shell.execute_reply": "2023-09-02T12:36:59.526820Z"
    },
    "trusted": true
   },
   "execution_count": null,
   "outputs": []
  },
  {
   "cell_type": "code",
   "source": [
    "results_df = pd.DataFrame({\"CustomerID\" : customer_ids[:371], \"CLV\" : clv_normalized.flatten() , \"S\" : rats[:371]}) "
   ],
   "metadata": {
    "execution": {
     "iopub.status.busy": "2023-09-02T12:36:59.529751Z",
     "iopub.execute_input": "2023-09-02T12:36:59.530110Z",
     "iopub.status.idle": "2023-09-02T12:36:59.538976Z",
     "shell.execute_reply.started": "2023-09-02T12:36:59.530079Z",
     "shell.execute_reply": "2023-09-02T12:36:59.537771Z"
    },
    "trusted": true
   },
   "execution_count": null,
   "outputs": []
  },
  {
   "cell_type": "code",
   "source": [
    "results_df.drop_duplicates(\"CustomerID\",inplace=True)"
   ],
   "metadata": {
    "execution": {
     "iopub.status.busy": "2023-09-02T12:36:59.540585Z",
     "iopub.execute_input": "2023-09-02T12:36:59.541062Z",
     "iopub.status.idle": "2023-09-02T12:36:59.554143Z",
     "shell.execute_reply.started": "2023-09-02T12:36:59.540986Z",
     "shell.execute_reply": "2023-09-02T12:36:59.552622Z"
    },
    "trusted": true
   },
   "execution_count": null,
   "outputs": []
  },
  {
   "cell_type": "code",
   "source": [
    "results_df.sort_values(by=\"CLV\",ascending = False).head()"
   ],
   "metadata": {
    "execution": {
     "iopub.status.busy": "2023-09-02T12:36:59.556233Z",
     "iopub.execute_input": "2023-09-02T12:36:59.557035Z",
     "iopub.status.idle": "2023-09-02T12:36:59.578909Z",
     "shell.execute_reply.started": "2023-09-02T12:36:59.556991Z",
     "shell.execute_reply": "2023-09-02T12:36:59.577756Z"
    },
    "trusted": true
   },
   "execution_count": null,
   "outputs": []
  },
  {
   "cell_type": "code",
   "source": [
    "basket = merged_df.groupby('InvoiceID')['ProductID'].apply(list).tolist()\n",
    "te = TransactionEncoder()\n",
    "te_ary = te.fit(basket).transform(basket)\n",
    "df_encoded = pd.DataFrame(te_ary, columns=te.columns_)\n",
    "frequent_itemsets = apriori(df_encoded, min_support=0.0001, use_colnames=True)\n",
    "rules = association_rules(frequent_itemsets, metric=\"confidence\", min_threshold=0.5)\n",
    "rules_df = pd.DataFrame(rules)\n",
    "np.sort(rules_df['lift'])\n",
    "rules_df.head()"
   ],
   "metadata": {
    "execution": {
     "iopub.status.busy": "2023-09-02T12:36:59.582332Z",
     "iopub.execute_input": "2023-09-02T12:36:59.582787Z",
     "iopub.status.idle": "2023-09-02T12:41:54.655665Z",
     "shell.execute_reply.started": "2023-09-02T12:36:59.582752Z",
     "shell.execute_reply": "2023-09-02T12:41:54.654601Z"
    },
    "trusted": true
   },
   "execution_count": null,
   "outputs": []
  },
  {
   "cell_type": "code",
   "source": [
    "rules_df.shape"
   ],
   "metadata": {
    "execution": {
     "iopub.status.busy": "2023-09-02T12:41:54.657079Z",
     "iopub.execute_input": "2023-09-02T12:41:54.657417Z",
     "iopub.status.idle": "2023-09-02T12:41:54.664531Z",
     "shell.execute_reply.started": "2023-09-02T12:41:54.657389Z",
     "shell.execute_reply": "2023-09-02T12:41:54.663320Z"
    },
    "trusted": true
   },
   "execution_count": null,
   "outputs": []
  },
  {
   "cell_type": "code",
   "source": [
    "rules_df.sort_values(by=\"lift\",ascending = True)[1000:]"
   ],
   "metadata": {
    "execution": {
     "iopub.status.busy": "2023-09-02T12:41:54.665835Z",
     "iopub.execute_input": "2023-09-02T12:41:54.666133Z",
     "iopub.status.idle": "2023-09-02T12:41:54.817031Z",
     "shell.execute_reply.started": "2023-09-02T12:41:54.666106Z",
     "shell.execute_reply": "2023-09-02T12:41:54.816203Z"
    },
    "trusted": true
   },
   "execution_count": null,
   "outputs": []
  },
  {
   "cell_type": "code",
   "source": [
    "plt.figure(figsize=(10, 6))\n",
    "plt.scatter(range(len(clv_normalized)), clv_normalized, c=clv_normalized ,cmap='YlGnBu', s=10)\n",
    "plt.colorbar(label='CLV Değeri')\n",
    "plt.title('CLV Değerleri Scatter Plot')\n",
    "plt.ylabel('CLV Değeri')\n",
    "plt.xticks([]) \n",
    "plt.show()"
   ],
   "metadata": {
    "execution": {
     "iopub.status.busy": "2023-09-02T12:41:54.819000Z",
     "iopub.execute_input": "2023-09-02T12:41:54.819893Z",
     "iopub.status.idle": "2023-09-02T12:41:55.209517Z",
     "shell.execute_reply.started": "2023-09-02T12:41:54.819860Z",
     "shell.execute_reply": "2023-09-02T12:41:55.208619Z"
    },
    "trusted": true
   },
   "execution_count": null,
   "outputs": []
  },
  {
   "cell_type": "code",
   "source": [
    "np.mean(scaler.fit_transform(np.array(clv).reshape(-1,1)).flatten())"
   ],
   "metadata": {
    "execution": {
     "iopub.status.busy": "2023-09-02T12:41:55.211067Z",
     "iopub.execute_input": "2023-09-02T12:41:55.211646Z",
     "iopub.status.idle": "2023-09-02T12:41:55.219892Z",
     "shell.execute_reply.started": "2023-09-02T12:41:55.211612Z",
     "shell.execute_reply": "2023-09-02T12:41:55.218765Z"
    },
    "trusted": true
   },
   "execution_count": null,
   "outputs": []
  },
  {
   "cell_type": "code",
   "source": [],
   "metadata": {},
   "execution_count": null,
   "outputs": []
  }
 ]
}
